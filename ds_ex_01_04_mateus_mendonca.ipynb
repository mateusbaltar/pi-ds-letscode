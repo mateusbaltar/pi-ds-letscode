{
 "cells": [
  {
   "cell_type": "markdown",
   "metadata": {},
   "source": [
    "# Lista 4\n",
    "\n",
    "## Aluno: \n",
    "\n",
    "## Total de PIs: XX/20"
   ]
  },
  {
   "cell_type": "markdown",
   "metadata": {},
   "source": [
    "## Exercício 1\n",
    "\n",
    "### PIs: X/2\n",
    "\n",
    "Escreva um algoritmo que armazene o valor 10 em uma variável A e o valor 20 em uma variável B. A seguir (utilizando apenas atribuições entre variáveis) troque os seus conteúdos fazendo com que o valor que está em A passe para B e vice-versa. Ao final, escrever os valores que ficaram armazenados nas variáveis."
   ]
  },
  {
   "cell_type": "code",
   "execution_count": 2,
   "metadata": {},
   "outputs": [
    {
     "name": "stdout",
     "output_type": "stream",
     "text": [
      "a= 20 b= 10\n"
     ]
    }
   ],
   "source": [
    "a, b=10, 20\n",
    "a,b = b,a\n",
    "print('a=',a,'b=',b)"
   ]
  },
  {
   "cell_type": "markdown",
   "metadata": {},
   "source": [
    "## Exercício 2\n",
    "\n",
    "### PIs: X/2\n",
    "\n",
    "Escreva um algoritmo para ler as dimensões de um retângulo (base e altura), calcular e escrever a área do retângulo."
   ]
  },
  {
   "cell_type": "code",
   "execution_count": null,
   "metadata": {},
   "outputs": [],
   "source": []
  },
  {
   "cell_type": "markdown",
   "metadata": {},
   "source": [
    "## Exercício 3\n",
    "\n",
    "### PIs: X/3\n",
    "\n",
    "Faça um algoritmo que leia a idade de uma pessoa expressa em anos, meses e dias e escreva a idade dessa pessoa expressa apenas em dias. Considerar ano com 365 dias e mês com 30 dias."
   ]
  },
  {
   "cell_type": "code",
   "execution_count": null,
   "metadata": {},
   "outputs": [],
   "source": []
  },
  {
   "cell_type": "markdown",
   "metadata": {},
   "source": [
    "## Exercício 4\n",
    "\n",
    "### PIs: X/2\n",
    "\n",
    "O custo de um carro novo ao consumidor é a soma do custo de fábrica com a porcentagem do distribuidor e dos impostos (aplicados ao custo de fábrica). Supondo que o percentual do distribuidor seja de 28\\% e os impostos de 45\\%, escrever um algoritmo para ler o custo de fábrica de um carro, calcular e escrever o custo final ao consumidor."
   ]
  },
  {
   "cell_type": "code",
   "execution_count": null,
   "metadata": {},
   "outputs": [],
   "source": []
  },
  {
   "cell_type": "markdown",
   "metadata": {},
   "source": [
    "## Exercício 5\n",
    "\n",
    "### PIs: X/3\n",
    "\n",
    "Escreva um algoritmo para ler uma temperatura em graus Fahrenheit, calcular e escrever o valor correspondente em graus Celsius (baseado na fórmula abaixo):\n",
    "\n",
    "$\\frac{c}{5} = \\frac{f-32}{9}$"
   ]
  },
  {
   "cell_type": "code",
   "execution_count": null,
   "metadata": {},
   "outputs": [],
   "source": []
  },
  {
   "cell_type": "markdown",
   "metadata": {},
   "source": [
    "## Exercício 6\n",
    "\n",
    "### PIs: X/2\n",
    "\n",
    "Ler dois valores e imprimir uma das três mensagens a seguir: \n",
    "\n",
    "- ‘Números iguais’, caso os números sejam iguais;\n",
    "- ‘Primeiro é maior’, caso o primeiro seja maior que o segundo; \n",
    "- ‘Segundo maior’, caso o segundo seja maior que o primeiro."
   ]
  },
  {
   "cell_type": "code",
   "execution_count": null,
   "metadata": {},
   "outputs": [],
   "source": []
  },
  {
   "cell_type": "markdown",
   "metadata": {},
   "source": [
    "## Exercício 7\n",
    "\n",
    "### PIs: X/3\n",
    "\n",
    "Crie uma lista com 100 números aleatórios, selecione o maior e o menor valor da lista e retorne o produto entre os 2, elevado ao cubo.\n",
    "\n",
    "*Desafio: fazer sem usar listas*"
   ]
  },
  {
   "cell_type": "code",
   "execution_count": 5,
   "metadata": {},
   "outputs": [
    {
     "name": "stdout",
     "output_type": "stream",
     "text": [
      "7762392\n"
     ]
    }
   ],
   "source": [
    "import random\n",
    "\n",
    "lista = list()\n",
    "for i in range(100):\n",
    "    lista.append(random.randint(0,100))\n",
    "\n",
    "resultado = (max(lista)*min(lista))**3\n",
    "print (resultado)"
   ]
  },
  {
   "cell_type": "code",
   "execution_count": 7,
   "metadata": {},
   "outputs": [
    {
     "name": "stdout",
     "output_type": "stream",
     "text": [
      "941192\n"
     ]
    }
   ],
   "source": [
    "import random\n",
    "\n",
    "maximo_aleatorio = 0\n",
    "minimo_aleatorio = 100\n",
    "for i in range(100):\n",
    "    numero_aleatorio = random.randint(0, 100)\n",
    "    if  numero_aleatorio > maximo_aleatorio:\n",
    "        maximo_aleatorio = numero_aleatorio\n",
    "    if numero_aleatorio < minimo_aleatorio:\n",
    "        minimo_aleatorio = numero_aleatorio\n",
    "        \n",
    "resultado = (maximo_aleatorio*minimo_aleatorio)**3\n",
    "print (resultado)\n",
    "    "
   ]
  },
  {
   "cell_type": "markdown",
   "metadata": {},
   "source": [
    "## Exercício 8\n",
    "\n",
    "### PIs: X/3\n",
    "\n",
    "Crie uma matriz 5 x 5 com números aleatórios, some os valores da diagonal principal e atribua a soma a uma variável x. Some os valores da diagonal secundária e atribua a uma variável y. Retorne o resto da divisão de x por y. Se o valor for menor 1, imprima na tela “menor do que 1”, se for maior do que 1, imprima na tela “maior do que 1”. Se não, retorne “desconhecido”.\n",
    "\n",
    "Observação:\n",
    "- Tratar a exceção caso y seja 0. 2 \n",
    "- Uma matriz é uma lista de listas."
   ]
  },
  {
   "cell_type": "code",
   "execution_count": 1,
   "metadata": {},
   "outputs": [
    {
     "name": "stdout",
     "output_type": "stream",
     "text": [
      "[[2, 1, 3, 5, 3], [1, 4, 4, 1, 0], [0, 0, 3, 3, 2], [0, 1, 0, 4, 5], [1, 1, 1, 1, 4]]\n"
     ]
    }
   ],
   "source": [
    "import random\n",
    "\n",
    "lista = []\n",
    "\n",
    "for x in range(5):\n",
    "    temp_lista = []\n",
    "    for y in range(5):\n",
    "        temp_lista.append(random.randint(0,5))\n",
    "    lista.append(temp_lista)\n",
    "    \n",
    "print(lista)"
   ]
  }
 ],
 "metadata": {
  "kernelspec": {
   "display_name": "Python 3",
   "language": "python",
   "name": "python3"
  },
  "language_info": {
   "codemirror_mode": {
    "name": "ipython",
    "version": 3
   },
   "file_extension": ".py",
   "mimetype": "text/x-python",
   "name": "python",
   "nbconvert_exporter": "python",
   "pygments_lexer": "ipython3",
   "version": "3.7.5"
  }
 },
 "nbformat": 4,
 "nbformat_minor": 2
}
