{
 "cells": [
  {
   "cell_type": "markdown",
   "metadata": {},
   "source": [
    "# Lista 02_01\n",
    "\n",
    "## Aluno: Mateus Baltar Maia de Mendonça\n",
    "\n",
    "## Total de PIs: XX/20"
   ]
  },
  {
   "cell_type": "markdown",
   "metadata": {},
   "source": [
    "*Dicas: sempre teste se a funcionalidade implementada está funcionando*"
   ]
  },
  {
   "cell_type": "markdown",
   "metadata": {},
   "source": [
    "## Exercício 1: Relógio\n",
    "\n",
    "#### PIs: XX/10"
   ]
  },
  {
   "cell_type": "markdown",
   "metadata": {},
   "source": [
    "Crie uma classe chamada Relogio. Essa classe deverá ter os atributos hora, minuto e segundo, e todos deverão iniciar com zero."
   ]
  },
  {
   "cell_type": "code",
   "execution_count": 7,
   "metadata": {},
   "outputs": [],
   "source": [
    "class Relogio:\n",
    "    \n",
    "    def __init__(self, hora = 0, minuto = 0, segundo = 0):\n",
    "        self.hora = hora\n",
    "        self.minuto = minuto\n",
    "        self.segundo = segundo"
   ]
  },
  {
   "cell_type": "markdown",
   "metadata": {},
   "source": [
    "Crie o método `__repr__()` que retorna uma `string` do tipo 'HH:MM:SS', onde HH é a hora, MM é o minuto e SS é o segundo.\n"
   ]
  },
  {
   "cell_type": "code",
   "execution_count": 10,
   "metadata": {},
   "outputs": [],
   "source": [
    "class Relogio:\n",
    "    \n",
    "    def __init__(self, hora = 0, minuto = 0, segundo = 0):\n",
    "        self.hora = hora\n",
    "        self.minuto = minuto\n",
    "        self.segundo = segundo\n",
    "        \n",
    "    def __repr__(self):\n",
    "        return (f'{self.hora:02d}:{self.minuto:02d}:{self.segundo:02d}')"
   ]
  },
  {
   "cell_type": "markdown",
   "metadata": {},
   "source": [
    "*Opcional: criar método que transforma a HH:MM:SS em total de segundos.*"
   ]
  },
  {
   "cell_type": "code",
   "execution_count": 20,
   "metadata": {},
   "outputs": [],
   "source": [
    "class Relogio:\n",
    "    \n",
    "    def __init__(self, hora = 0, minuto = 0, segundo = 0):\n",
    "        self.hora = hora\n",
    "        self.minuto = minuto\n",
    "        self.segundo = segundo\n",
    "        \n",
    "    def __repr__(self):\n",
    "        return (f'{self.hora:02d}:{self.minuto:02d}:{self.segundo:02d}')\n",
    "    \n",
    "    def converte_segundo(self):\n",
    "        total_segundo = self.hora * 3600 + self.minuto * 60 + self.segundo\n",
    "        return total_segundo"
   ]
  },
  {
   "cell_type": "markdown",
   "metadata": {},
   "source": [
    "*Opcional: Criar método que transforma total de segundos em HH:MM:SS.*"
   ]
  },
  {
   "cell_type": "code",
   "execution_count": 61,
   "metadata": {},
   "outputs": [],
   "source": [
    "class Relogio:\n",
    "    \n",
    "    def __init__(self, hora = 0, minuto = 0, segundo = 0):\n",
    "        self.hora = hora\n",
    "        self.minuto = minuto\n",
    "        self.segundo = segundo\n",
    "        \n",
    "    def __repr__(self):\n",
    "        return (f'{self.hora:02d}:{self.minuto:02d}:{self.segundo:02d}')\n",
    "    \n",
    "    def converte_segundo(self):\n",
    "        total_segundo = self.hora * 3600 + self.minuto * 60 + self.segundo\n",
    "        return total_segundo\n",
    "    \n",
    "    def converte_hhmmss(self, total_segundo):\n",
    "        self.hora = total_segundo // 3600\n",
    "        self.minuto = total_segundo % 3600 // 60\n",
    "        self.segundo = total_segundo % 3600 % 60\n",
    "        return (f'{self.hora:02d}:{self.minuto:02d}:{self.segundo:02d}')"
   ]
  },
  {
   "cell_type": "markdown",
   "metadata": {},
   "source": [
    "Crie quatro métodos: `adiantar_minuto(n)`, `atrasar_minuto(n)`, `adiantar_segundo(n)` e `atrasar_segundo(n)`. Eles receberam um inteiro `n` que irá ser adicionado ou subtraído do respectivo atributo (com a condição de que não existirão horas, minutos ou segundos negativos)."
   ]
  },
  {
   "cell_type": "code",
   "execution_count": 127,
   "metadata": {},
   "outputs": [],
   "source": [
    "class Relogio:\n",
    "    \n",
    "    def __init__(self, hora = 0, minuto = 0, segundo = 0):\n",
    "        self.hora = hora\n",
    "        self.minuto = minuto\n",
    "        self.segundo = segundo\n",
    "        \n",
    "    def __repr__(self):\n",
    "        return (f'{self.hora:02d}:{self.minuto:02d}:{self.segundo:02d}')\n",
    "    \n",
    "    def converte_segundo(self):\n",
    "        total_segundo = self.hora * 3600 + self.minuto * 60 + self.segundo\n",
    "        return total_segundo\n",
    "    \n",
    "    def converte_hhmmss(self, total_segundo):\n",
    "        self.hora = total_segundo // 3600\n",
    "        self.minuto = total_segundo % 3600 // 60\n",
    "        self.segundo = total_segundo % 3600 % 60\n",
    "        return (f'{self.hora:02d}:{self.minuto:02d}:{self.segundo:02d}')\n",
    "    \n",
    "    def adiantar_minuto(self, n):\n",
    "        n_segundo = n * 60\n",
    "        total_segundo = self.converte_segundo() + n_segundo\n",
    "        return self.converte_hhmmss(total_segundo)\n",
    "        \n",
    "    def atrasar_minuto(self, n):\n",
    "        n_segundo = n * 60\n",
    "        total_segundo = self.converte_segundo() - n_segundo\n",
    "        return self.converte_hhmmss(total_segundo)\n",
    "    \n",
    "    def adiantar_segundo(self, n_segundo):\n",
    "        total_segundo = self.converte_segundo() + n_segundo\n",
    "        return self.converte_hhmmss(total_segundo)\n",
    "    \n",
    "    def atrasar_segundo(self, n_segundo):\n",
    "        total_segundo = self.converte_segundo() - n_segundo\n",
    "        return self.converte_hhmmss(total_segundo)"
   ]
  },
  {
   "cell_type": "markdown",
   "metadata": {},
   "source": [
    "Agora crie os métodos `soma(r)` e `diferenca(r)`, que receberá como parâmetro um objeto `r` do tipo `Relogio` e deverá calcular e retornar a soma e a diferença, respectivamente, entre o parâmetro recebido (`r`) e o próprio objeto em questão (`self`)."
   ]
  },
  {
   "cell_type": "code",
   "execution_count": null,
   "metadata": {},
   "outputs": [],
   "source": [
    "class Relogio:\n",
    "    \n",
    "    def __init__(self, hora = 0, minuto = 0, segundo = 0):\n",
    "        self.hora = hora\n",
    "        self.minuto = minuto\n",
    "        self.segundo = segundo\n",
    "        \n",
    "    def __repr__(self):\n",
    "        return (f'{self.hora:02d}:{self.minuto:02d}:{self.segundo:02d}')\n",
    "    \n",
    "    def converte_segundo(self):\n",
    "        total_segundo = self.hora * 3600 + self.minuto * 60 + self.segundo\n",
    "        return total_segundo\n",
    "    \n",
    "    def converte_hhmmss(self, total_segundo):\n",
    "        self.hora = total_segundo // 3600\n",
    "        self.minuto = total_segundo % 3600 // 60\n",
    "        self.segundo = total_segundo % 3600 % 60\n",
    "        return (f'{self.hora:02d}:{self.minuto:02d}:{self.segundo:02d}')\n",
    "    \n",
    "    def adiantar_minuto(self, n):\n",
    "        n_segundo = n * 60\n",
    "        total_segundo = self.converte_segundo() + n_segundo\n",
    "        return self.converte_hhmmss(total_segundo)\n",
    "        \n",
    "    def atrasar_minuto(self, n):\n",
    "        n_segundo = n * 60\n",
    "        total_segundo = self.converte_segundo() - n_segundo\n",
    "        return self.converte_hhmmss(total_segundo)\n",
    "    \n",
    "    def adiantar_segundo(self, n_segundo):\n",
    "        total_segundo = self.converte_segundo() + n_segundo\n",
    "        return self.converte_hhmmss(total_segundo)\n",
    "    \n",
    "    def atrasar_segundo(self, n_segundo):\n",
    "        total_segundo = self.converte_segundo() - n_segundo\n",
    "        return self.converte_hhmmss(total_segundo)\n",
    "    \n",
    "    def soma(self, r):\n",
    "        \n",
    "    def diferenca(self, r):\n",
    "        "
   ]
  },
  {
   "cell_type": "markdown",
   "metadata": {},
   "source": [
    "Agora crie outros métodos, `adicionar(r)` e `subtrair(r)`, que receberá como parâmetro um objeto `r` do tipo `Relogio` e modificar o próprio objeto em questão (`self`) com o resultado da soma e subtração entre os dois objetos."
   ]
  },
  {
   "cell_type": "code",
   "execution_count": null,
   "metadata": {},
   "outputs": [],
   "source": []
  },
  {
   "cell_type": "markdown",
   "metadata": {},
   "source": [
    "## Exercício 2: Robô\n",
    "\n",
    "#### PIs: XX/10"
   ]
  },
  {
   "cell_type": "markdown",
   "metadata": {},
   "source": [
    "Crie uma classe chamada Robo que representará a posição do robô em questão em um plano infinito. No construtor, poderá ser passado a posição inicial `(x, y)` desse robô e para qual direção ele está olhando (`n`orte, `s`ul, `l`este, `o`este). Caso a posição inicial não seja passada, devemos assumir que é `(0, 0)`. Caso a direção não seja passada, devemos assumir `n`."
   ]
  },
  {
   "cell_type": "code",
   "execution_count": null,
   "metadata": {},
   "outputs": [],
   "source": [
    "class Robo:\n",
    "    \n",
    "    def __init__(self, x=0, y=0, d='n'):\n",
    "        self.x = x\n",
    "        self.y = y\n",
    "        self.d = d"
   ]
  },
  {
   "cell_type": "markdown",
   "metadata": {},
   "source": [
    "Crie o método `__repr__()` que retorna uma `string` que informa a posição do robô e em qual direção ele está olhando."
   ]
  },
  {
   "cell_type": "code",
   "execution_count": 177,
   "metadata": {},
   "outputs": [],
   "source": [
    "class Robo:\n",
    "    \n",
    "    def __init__(self, x=0, y=0, d='n'):\n",
    "        self.x = x\n",
    "        self.y = y\n",
    "        self.d = d\n",
    "        \n",
    "    def __repr__(self):\n",
    "        return str(f'({self.x}, {self.y} olhando para o {self.d})')"
   ]
  },
  {
   "cell_type": "markdown",
   "metadata": {},
   "source": [
    "Crie os método `virar_direita()` e `virar_esquerda()`. Esses métodos irão fazer um robô trocar a sua posição, de acordo com a atual.\n",
    "\n",
    "*Exemplos:*\n",
    "- Se um robô está olhando para o `n` e mandarmos ele `virar_esquerda()`, ele passará a olhar para o `o`.\n",
    "- Se um robô está olhando para o `l` e mandarmos ele `virar_direita()`, ele passará a olhar para o `s`."
   ]
  },
  {
   "cell_type": "code",
   "execution_count": 263,
   "metadata": {},
   "outputs": [],
   "source": [
    "class Robo:\n",
    "    \n",
    "    def __init__(self, x=0, y=0, d='n'):\n",
    "        self.x = x\n",
    "        self.y = y\n",
    "        self.d = d\n",
    "        \n",
    "    def __repr__(self):\n",
    "        return str(f'({self.x}, {self.y}) olhando para o {self.d}')\n",
    "    \n",
    "    def virar_esquerda(self):\n",
    "        direcao = ('n', 'l', 's', 'o')\n",
    "        self.d = direcao[direcao.index(self.d)-1]\n",
    "        return self.__repr__()\n",
    "        \n",
    "    def virar_direita(self):\n",
    "        direcao = ('n', 'o', 's', 'l')\n",
    "        self.d = direcao[direcao.index(self.d)-1]\n",
    "        return self.__repr__()"
   ]
  },
  {
   "cell_type": "markdown",
   "metadata": {},
   "source": [
    "Agora, crie o método `avancar(i)`, que irá fazer o robô andar `i` posições no plano na direção que ele está olhando.\n",
    "\n",
    "*Exemplos:*\n",
    "\n",
    "- Se um robô estiver na posição `(0, 0)` olhando para o `n` e mandarmos ele avançar `5` posições, ele deverá ir para a posição `(0, 5)`.\n",
    "- Se um robô estiver na posição `(0, 0)` olhando para o `s` e mandarmos ele avançar `3` posições, ele deverá ir para a posição `(0, -3)`.\n",
    "- Se um robô estiver na posição `(0, 0)` olhando para o `l` e mandarmos ele avançar `1` posições, ele deverá ir para a posição `(1, 0)`.\n",
    "- Se um robô estiver na posição `(0, 0)` olhando para o `o` e mandarmos ele avançar `7` posições, ele deverá ir para a posição `(-7, 0)`.\n"
   ]
  },
  {
   "cell_type": "code",
   "execution_count": 272,
   "metadata": {},
   "outputs": [],
   "source": [
    "class Robo:\n",
    "    \n",
    "    def __init__(self, x=0, y=0, d='n'):\n",
    "        self.x = x\n",
    "        self.y = y\n",
    "        self.d = d\n",
    "        \n",
    "    def __repr__(self):\n",
    "        return str(f'({self.x}, {self.y}) olhando para o {self.d}')\n",
    "    \n",
    "    def virar_esquerda(self):\n",
    "        direcao = ['n', 'l', 's', 'o']\n",
    "        self.d = direcao[direcao.index(self.d)-1]\n",
    "        return self.__repr__()\n",
    "        \n",
    "    def virar_direita(self):\n",
    "        direcao = ['n', 'o', 's', 'l']\n",
    "        self.d = direcao[direcao.index(self.d)-1]\n",
    "        return self.__repr__()\n",
    "    \n",
    "    def avancar(self, i):\n",
    "        if self.d == 'n':\n",
    "            self.y += i\n",
    "        elif self.d == 's':\n",
    "            self.y -= i\n",
    "        elif self.d == 'l':\n",
    "            self.x += i\n",
    "        elif self.d == 'o':\n",
    "            self.x -= i\n",
    "        return self.__repr__()"
   ]
  },
  {
   "cell_type": "markdown",
   "metadata": {},
   "source": [
    "Cria um método `distancia(r)` que recebe como parâmetro um segundo robô (`r`) e retorna a distância do primeiro (`self`) para segundo (`r`)."
   ]
  },
  {
   "cell_type": "code",
   "execution_count": 302,
   "metadata": {},
   "outputs": [],
   "source": [
    "class Robo:\n",
    "    \n",
    "    def __init__(self, x=0, y=0, d='n'):\n",
    "        self.x = x\n",
    "        self.y = y\n",
    "        self.d = d\n",
    "        \n",
    "    def __repr__(self):\n",
    "        return str(f'({self.x}, {self.y}) olhando para o {self.d}')\n",
    "    \n",
    "    def virar_esquerda(self):\n",
    "        direcao = ['n', 'l', 's', 'o']\n",
    "        self.d = direcao[direcao.index(self.d)-1]\n",
    "        return self.__repr__()\n",
    "        \n",
    "    def virar_direita(self):\n",
    "        direcao = ['n', 'o', 's', 'l']\n",
    "        self.d = direcao[direcao.index(self.d)-1]\n",
    "        return self.__repr__()\n",
    "    \n",
    "    def avancar(self, i):\n",
    "        if self.d == 'n':\n",
    "            self.y += i\n",
    "        elif self.d == 's':\n",
    "            self.y -= i\n",
    "        elif self.d == 'l':\n",
    "            self.x += i\n",
    "        elif self.d == 'o':\n",
    "            self.x -= i\n",
    "        return self.__repr__()\n",
    "    \n",
    "    def distancia(self, r):\n",
    "        distancia = ((self.x - r.x)**2 + (self.y - r.y)**2)**(1/2)\n",
    "        return distancia"
   ]
  },
  {
   "cell_type": "code",
   "execution_count": 306,
   "metadata": {},
   "outputs": [
    {
     "data": {
      "text/plain": [
       "(1, 1) olhando para o n"
      ]
     },
     "execution_count": 306,
     "metadata": {},
     "output_type": "execute_result"
    }
   ],
   "source": [
    "r = Robo(1,1)\n",
    "r"
   ]
  },
  {
   "cell_type": "code",
   "execution_count": 309,
   "metadata": {},
   "outputs": [
    {
     "data": {
      "text/plain": [
       "(-2, -3) olhando para o s"
      ]
     },
     "execution_count": 309,
     "metadata": {},
     "output_type": "execute_result"
    }
   ],
   "source": [
    "r2 = Robo()\n",
    "r2\n",
    "r2.virar_esquerda()\n",
    "r2.avancar(2)\n",
    "r2.virar_esquerda()\n",
    "r2.avancar(3)\n",
    "r2"
   ]
  },
  {
   "cell_type": "code",
   "execution_count": 310,
   "metadata": {},
   "outputs": [
    {
     "data": {
      "text/plain": [
       "5.0"
      ]
     },
     "execution_count": 310,
     "metadata": {},
     "output_type": "execute_result"
    }
   ],
   "source": [
    "r2.distancia(r)"
   ]
  },
  {
   "cell_type": "markdown",
   "metadata": {},
   "source": [
    "Criando o mesmo robô em coordenadas polares."
   ]
  },
  {
   "cell_type": "code",
   "execution_count": 15,
   "metadata": {},
   "outputs": [],
   "source": [
    "import math\n",
    "\n",
    "class Robo:\n",
    "    \n",
    "    def __init__(self, x=0, y=0, d='n'):\n",
    "        self.x = x\n",
    "        self.y = y\n",
    "        self.d = d\n",
    "        \n",
    "    def __repr__(self):\n",
    "        return str(f'({self.x}, {self.y}) olhando para o {self.d}')\n",
    "    \n",
    "    def virar_esquerda(self):\n",
    "        direcao = ['n', 'l', 's', 'o']\n",
    "        self.d = direcao[direcao.index(self.d)-1]\n",
    "        return self.__repr__()\n",
    "        \n",
    "    def virar_direita(self):\n",
    "        direcao = ['n', 'o', 's', 'l']\n",
    "        self.d = direcao[direcao.index(self.d)-1]\n",
    "        return self.__repr__()\n",
    "    \n",
    "    def avancar(self, i):\n",
    "        direcao = ['l', 'n', 'o', 's']\n",
    "        angulo = [0, 90, 180, 270]\n",
    "        comp_x = round(math.cos(math.radians(angulo[direcao.index(self.d)])),0)*i\n",
    "        comp_y = round(math.sin(math.radians(angulo[direcao.index(self.d)])),0)*i\n",
    "        self.x = self.x + comp_x\n",
    "        self.y = self.y + comp_y\n",
    "        return self.__repr__()\n",
    "    \n",
    "    def distancia(self, r):\n",
    "        distancia = ((self.x - r.x)**2 + (self.y - r.y)**2)**(1/2)\n",
    "        return distancia"
   ]
  },
  {
   "cell_type": "code",
   "execution_count": 16,
   "metadata": {},
   "outputs": [
    {
     "data": {
      "text/plain": [
       "(1, 1) olhando para o n"
      ]
     },
     "execution_count": 16,
     "metadata": {},
     "output_type": "execute_result"
    }
   ],
   "source": [
    "r = Robo(1,1)\n",
    "r"
   ]
  },
  {
   "cell_type": "code",
   "execution_count": 17,
   "metadata": {},
   "outputs": [
    {
     "data": {
      "text/plain": [
       "(-2.0, -3.0) olhando para o s"
      ]
     },
     "execution_count": 17,
     "metadata": {},
     "output_type": "execute_result"
    }
   ],
   "source": [
    "r2 = Robo()\n",
    "r2\n",
    "r2.virar_esquerda()\n",
    "r2.avancar(2)\n",
    "r2.virar_esquerda()\n",
    "r2.avancar(3)\n",
    "r2"
   ]
  },
  {
   "cell_type": "code",
   "execution_count": 18,
   "metadata": {},
   "outputs": [
    {
     "data": {
      "text/plain": [
       "5.0"
      ]
     },
     "execution_count": 18,
     "metadata": {},
     "output_type": "execute_result"
    }
   ],
   "source": [
    "r2.distancia(r)"
   ]
  }
 ],
 "metadata": {
  "kernelspec": {
   "display_name": "Python 3",
   "language": "python",
   "name": "python3"
  },
  "language_info": {
   "codemirror_mode": {
    "name": "ipython",
    "version": 3
   },
   "file_extension": ".py",
   "mimetype": "text/x-python",
   "name": "python",
   "nbconvert_exporter": "python",
   "pygments_lexer": "ipython3",
   "version": "3.7.5"
  }
 },
 "nbformat": 4,
 "nbformat_minor": 2
}
