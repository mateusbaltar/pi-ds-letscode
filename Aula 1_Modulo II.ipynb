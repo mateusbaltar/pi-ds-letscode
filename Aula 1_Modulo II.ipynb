{
 "cells": [
  {
   "cell_type": "markdown",
   "metadata": {},
   "source": [
    "# Aula 12\n",
    "## Na aula anterior..."
   ]
  },
  {
   "cell_type": "markdown",
   "metadata": {},
   "source": [
    "## Exercício 1"
   ]
  },
  {
   "cell_type": "code",
   "execution_count": null,
   "metadata": {},
   "outputs": [],
   "source": [
    "def function_1(a, b):\n",
    "    a.append(b)\n",
    "    return XXXXXX"
   ]
  },
  {
   "cell_type": "markdown",
   "metadata": {},
   "source": [
    "O que deveríamos colocar no lugar de ‘XXXXXX’, para que a função retornasse a quantidade de elementos em a?\n",
    "\n",
    "- A. count(a)\n",
    "- B. a.count()\n",
    "- C. a.len()\n",
    "- **D. len(a)**"
   ]
  },
  {
   "cell_type": "markdown",
   "metadata": {},
   "source": [
    "## Exercício 2"
   ]
  },
  {
   "cell_type": "code",
   "execution_count": null,
   "metadata": {},
   "outputs": [],
   "source": [
    "def remove(m, n, lista):\n",
    "    for i in range (m, n+1):\n",
    "        XXXX"
   ]
  },
  {
   "cell_type": "markdown",
   "metadata": {},
   "source": [
    "A função acima remove os elementos das posições m até n (inclusive). Com essas informações, o que deveríamos substituir por XXXX para que a função funcionasse corretamente.\n",
    "\n",
    "- A. del(lista[i])\n",
    "- B. del(lista[n])\n",
    "- C. del(lista[n+1])\n",
    "- **D. del(lista[m])**"
   ]
  },
  {
   "cell_type": "code",
   "execution_count": null,
   "metadata": {},
   "outputs": [],
   "source": []
  },
  {
   "cell_type": "markdown",
   "metadata": {},
   "source": [
    "## Exercício 3"
   ]
  },
  {
   "cell_type": "code",
   "execution_count": null,
   "metadata": {},
   "outputs": [],
   "source": [
    "class prova:\n",
    "    \n",
    "    def __init__(self, nome):\n",
    "        self.aluno = nome\n",
    "        self.nota = 0\n",
    "        self.questoes_corrigidas = [] # para cada questão se adicionará 1 para certo e 0 para erradas\n",
    "\n",
    "    def corrigir(self):\n",
    "        self.nota = self.questoes_corrigidas.sum()\n",
    "        print(“O aluno”, self.aluno, ‘tirou nota”,self.nota)"
   ]
  },
  {
   "cell_type": "markdown",
   "metadata": {},
   "source": [
    "Qual o nome técnico correto para se referir as variáveis “aluno”, “nota” e “questões” da classe prova ?\n",
    "\n",
    "- A. variáveis\n",
    "- **B. atributos**\n",
    "- C. métodos\n",
    "- D. funções\n",
    "\n"
   ]
  },
  {
   "cell_type": "markdown",
   "metadata": {},
   "source": [
    "## Exercício 4"
   ]
  },
  {
   "cell_type": "code",
   "execution_count": null,
   "metadata": {},
   "outputs": [],
   "source": [
    "class prova:\n",
    "    def __init__(self, nome):\n",
    "        self.aluno = nome\n",
    "        self.nota = 0\n",
    "        self.questoes_corrigidas = [] # para cada questão se adicionará 1 para certo e 0 para erradas\n",
    "\n",
    "    def corrigir(self):\n",
    "        self.nota = self.questoes_corrigidas.sum()\n",
    "        print(“O aluno”, self.aluno, ‘tirou nota”,self.nota)"
   ]
  },
  {
   "cell_type": "markdown",
   "metadata": {},
   "source": [
    "Qual o nome técnico correto para se referir a função “corrigir” da classe prova ?\n",
    "\n",
    "- A. variáveis\n",
    "- B. atributos\n",
    "- **C. métodos**\n",
    "- D. funções\n"
   ]
  },
  {
   "cell_type": "markdown",
   "metadata": {},
   "source": [
    "## Exercício 5"
   ]
  },
  {
   "cell_type": "code",
   "execution_count": null,
   "metadata": {},
   "outputs": [],
   "source": [
    "## a função fará via soma a multiplicação 2*k\n",
    "### Por exemplo se k=3, a função deverá retornar 6\n",
    "\n",
    "def tabuada_do_2(k):\n",
    "    if k < 1:\n",
    "        return 0\n",
    "    return 2+tabuada_do_2(k-1)"
   ]
  },
  {
   "cell_type": "markdown",
   "metadata": {},
   "source": [
    "Qual o nome dado para o tipo de função que no seu corpo (escopo), chama a ela mesma. Como por exemplo a função tabuada_do_2,  acima?\n",
    "\n",
    "- A. construtora\n",
    "- **B. recursiva**\n",
    "- C. método\n",
    "- D. função\n"
   ]
  },
  {
   "cell_type": "markdown",
   "metadata": {},
   "source": [
    "## Exercício 6"
   ]
  },
  {
   "cell_type": "code",
   "execution_count": null,
   "metadata": {},
   "outputs": [],
   "source": [
    "def remove_retorna(n, lista):\n",
    "    return XXXX"
   ]
  },
  {
   "cell_type": "markdown",
   "metadata": {},
   "source": [
    "A função acima, deve remover o elemento da posição `n` da `lista` e o retornar. Com essas informações, o que deveríamos substituir por XXXX para que a função funcionasse corretamente?\n",
    "\n",
    "- A. del(lista[n])\n",
    "- B. remove(lista[n])\n",
    "- **C. lista.pop(n)**\n",
    "- D. lista.remove(n)\n",
    "\n"
   ]
  },
  {
   "cell_type": "markdown",
   "metadata": {},
   "source": [
    "## Exercício 7"
   ]
  },
  {
   "cell_type": "code",
   "execution_count": 21,
   "metadata": {},
   "outputs": [
    {
     "name": "stdout",
     "output_type": "stream",
     "text": [
      "Linha 1\n",
      "Linha 2\n",
      "Linha 4\n",
      "Linha 6\n"
     ]
    }
   ],
   "source": [
    "try:\n",
    "    print('Linha 1')\n",
    "    ### linha A\n",
    "    try:\n",
    "        print('Linha 2')\n",
    "        ### linha B\n",
    "    except:\n",
    "        ### linha C\n",
    "        print('Linha 3')\n",
    "    print('Linha 4')\n",
    "except:\n",
    "    print('Linha 5')\n",
    "print('Linha 6')"
   ]
  },
  {
   "cell_type": "markdown",
   "metadata": {},
   "source": [
    "Dado a saída do código acima, em que lugar (caso necessário), devemos adicionar `raise RuntimeError('Erro 1')` para que o `print(‘Linha 3’)` apareça na saída (caso ele não esteja aparecendo ainda)?\n",
    "\n",
    "- A. linha A\n",
    "- **B. linha B**\n",
    "- C. linha C\n",
    "- D. Não é necessário adicionar nada"
   ]
  },
  {
   "cell_type": "markdown",
   "metadata": {},
   "source": [
    "## Exercício 8"
   ]
  },
  {
   "cell_type": "markdown",
   "metadata": {},
   "source": [
    "Crie uma função com 3 argumentos que representarão os lados de um triângulo. Considere que não importa a ordem que serão fornecidos os valores, podendo ser fornecido primeiro a hipotenusa e depois os catetos, ou primeiro os catetos e depois a hipotenusa, etc. O retorno da função é uma lista/tupla com os lados informados na ordem [hipotenusa, cateto1, cateto2] e um booleano que informa se o triângulo é retângulo ou não. \n",
    "\n",
    "Você pode utilizar o teorema de Pitágoras para auxiliar na resolução: hiponusa^2 = cateto1^2 + cateto2^2.\n"
   ]
  },
  {
   "cell_type": "code",
   "execution_count": 28,
   "metadata": {},
   "outputs": [],
   "source": [
    "def triangulo_retangulo(lado_1, lado_2, lado_3):\n",
    "    \n",
    "    lista = [lado_1, lado_2, lado_3]\n",
    "    \n",
    "    hipotenusa = max(lista)\n",
    "    lista.remove(hipotenusa)\n",
    "    cateto_1 = lista[0]\n",
    "    cateto_2 = lista[1]\n",
    "    \n",
    "    if hipotenusa**2 == cateto_1**2 + cateto_2**2:\n",
    "        retangulo = True\n",
    "    else:\n",
    "        retangulo = False\n",
    "        \n",
    "    resposta = [hipotenusa, cateto_1, cateto_2, retangulo]\n",
    "    return resposta"
   ]
  },
  {
   "cell_type": "code",
   "execution_count": 31,
   "metadata": {},
   "outputs": [
    {
     "data": {
      "text/plain": [
       "[8, 4, 3, False]"
      ]
     },
     "execution_count": 31,
     "metadata": {},
     "output_type": "execute_result"
    }
   ],
   "source": [
    "triangulo_retangulo(4, 8, 3)"
   ]
  },
  {
   "cell_type": "markdown",
   "metadata": {},
   "source": [
    "## Exercício 9"
   ]
  },
  {
   "cell_type": "markdown",
   "metadata": {},
   "source": [
    "Crie uma classe que modele uma pessoa:\n",
    "\n",
    "- Atributos: nome, idade, peso e altura\n",
    "- Métodos: Envelhecer, engordar, emagrecer, crescer. \n",
    "\n",
    "O programa deve pedir o nome da pessoa e ano e calcular sua altura com base na seguinte informação:\n",
    "\n",
    "- A cada ano que nossa pessoa envelhece, sendo a idade dela menor que 21 anos, ela deve crescer 0,5 cm.\n"
   ]
  },
  {
   "cell_type": "code",
   "execution_count": null,
   "metadata": {},
   "outputs": [],
   "source": [
    "class Pessoa:\n",
    "    \n",
    "    def __init__(self, nome, idade):\n",
    "        self.nome = nome\n",
    "        self.idade = idade\n",
    "        self.peso = 50\n",
    "        self.altura = 0\n",
    "        \n",
    "    def envelhecer(self):\n",
    "        pass\n",
    "    \n",
    "    def engordar(self):\n",
    "        pass\n",
    "    \n",
    "    def emagrecer(self):\n",
    "        pass\n",
    "    \n",
    "    def crescer(self):\n",
    "        \n",
    "        if self.idade > 21:\n",
    "            temp_idade = 21\n",
    "            \n",
    "        self.altura = temp_idade*0.5"
   ]
  },
  {
   "cell_type": "markdown",
   "metadata": {},
   "source": [
    "## Exercício 10"
   ]
  },
  {
   "cell_type": "code",
   "execution_count": 33,
   "metadata": {},
   "outputs": [],
   "source": [
    "class Felinos:\n",
    "    sound = 'meow'\n",
    "    \n",
    "    def make_sound(self):\n",
    "        print('Gatos fazem', self.sound)\n",
    "\n",
    "class Gato(Felinos):\n",
    "    \n",
    "    def __init__(self):\n",
    "        self.sound = 'meow '\n",
    "        \n",
    "    def make_sound(self, n = 1):\n",
    "        som = lambda x, k: x * k\n",
    "        print('Gatos fazem', som(self.sound, n))  \n"
   ]
  },
  {
   "cell_type": "markdown",
   "metadata": {},
   "source": [
    "Utilizando o código acima, crie o objeto do tipo Gato e o chame a função make_sound(), de modo a obter (sem modificar nada), as seguintes saídas:"
   ]
  },
  {
   "cell_type": "raw",
   "metadata": {},
   "source": [
    "Gatos fazem meow\n",
    "Gatos fazem meow meow meow meow meow\n",
    "Gatos fazem"
   ]
  },
  {
   "cell_type": "code",
   "execution_count": 37,
   "metadata": {},
   "outputs": [
    {
     "name": "stdout",
     "output_type": "stream",
     "text": [
      "Gatos fazem meow \n",
      "Gatos fazem meow meow meow meow meow \n",
      "Gatos fazem \n"
     ]
    }
   ],
   "source": [
    "g1 = Gato()\n",
    "g1.make_sound()\n",
    "g1.make_sound(5)\n",
    "g1.make_sound(0)"
   ]
  },
  {
   "cell_type": "code",
   "execution_count": null,
   "metadata": {},
   "outputs": [],
   "source": []
  },
  {
   "cell_type": "code",
   "execution_count": 49,
   "metadata": {},
   "outputs": [
    {
     "name": "stdout",
     "output_type": "stream",
     "text": [
      "carro\n"
     ]
    }
   ],
   "source": [
    "print(a)"
   ]
  },
  {
   "cell_type": "code",
   "execution_count": 50,
   "metadata": {},
   "outputs": [
    {
     "name": "stdout",
     "output_type": "stream",
     "text": [
      "1\n"
     ]
    }
   ],
   "source": [
    "a = 1\n",
    "print(a)"
   ]
  },
  {
   "cell_type": "code",
   "execution_count": 47,
   "metadata": {},
   "outputs": [
    {
     "name": "stdout",
     "output_type": "stream",
     "text": [
      "carro\n"
     ]
    }
   ],
   "source": [
    "a = 'carro'\n",
    "print(a)"
   ]
  },
  {
   "cell_type": "code",
   "execution_count": 51,
   "metadata": {},
   "outputs": [
    {
     "data": {
      "text/plain": [
       "1"
      ]
     },
     "execution_count": 51,
     "metadata": {},
     "output_type": "execute_result"
    }
   ],
   "source": [
    "a"
   ]
  },
  {
   "cell_type": "code",
   "execution_count": null,
   "metadata": {},
   "outputs": [],
   "source": []
  },
  {
   "cell_type": "code",
   "execution_count": null,
   "metadata": {},
   "outputs": [],
   "source": []
  },
  {
   "cell_type": "markdown",
   "metadata": {},
   "source": [
    "## Listas"
   ]
  },
  {
   "cell_type": "code",
   "execution_count": 38,
   "metadata": {},
   "outputs": [],
   "source": [
    "matriz = [[6 , 8, 3], [-7, -4, -9], ['a', 'b', 'c']]"
   ]
  },
  {
   "cell_type": "code",
   "execution_count": 45,
   "metadata": {},
   "outputs": [
    {
     "data": {
      "text/plain": [
       "-9"
      ]
     },
     "execution_count": 45,
     "metadata": {},
     "output_type": "execute_result"
    }
   ],
   "source": [
    "matriz[1][2]"
   ]
  },
  {
   "cell_type": "markdown",
   "metadata": {},
   "source": [
    "Crie duas listas: uma com o nome e outra com a comida preferida dos membros da sua squad. Faça um programa que enquanto o usuário não digitar -1, continua pedindo para inserir mais pessoas nas listas. Ao final, mostre o resultados das listas, com um nome e sua comida preferida por linha."
   ]
  },
  {
   "cell_type": "code",
   "execution_count": null,
   "metadata": {},
   "outputs": [],
   "source": []
  },
  {
   "cell_type": "markdown",
   "metadata": {},
   "source": [
    "Crie uma função que receba três palavras e imprima-os na tela em ordem alfabética."
   ]
  },
  {
   "cell_type": "code",
   "execution_count": 59,
   "metadata": {},
   "outputs": [],
   "source": [
    "def ordem(p1, p2, p3):\n",
    "    lista = [p1, p2, p3]\n",
    "    lista.sort()\n",
    "    for i in lista:\n",
    "        print(i)"
   ]
  },
  {
   "cell_type": "code",
   "execution_count": 60,
   "metadata": {},
   "outputs": [
    {
     "name": "stdout",
     "output_type": "stream",
     "text": [
      "abacate\n",
      "maçã\n",
      "peixe\n"
     ]
    }
   ],
   "source": [
    "ordem('peixe', 'abacate', 'maçã')"
   ]
  },
  {
   "cell_type": "markdown",
   "metadata": {},
   "source": [
    "Crie uma função que receba três palavras e retorne uma lista deles em ordem alfabética."
   ]
  },
  {
   "cell_type": "code",
   "execution_count": 56,
   "metadata": {},
   "outputs": [],
   "source": [
    "def ordem(p1, p2, p3):\n",
    "    lista = [p1, p2, p3]\n",
    "    lista.sort()\n",
    "    return lista"
   ]
  },
  {
   "cell_type": "code",
   "execution_count": 57,
   "metadata": {},
   "outputs": [
    {
     "data": {
      "text/plain": [
       "['abacate', 'maçã', 'peixe']"
      ]
     },
     "execution_count": 57,
     "metadata": {},
     "output_type": "execute_result"
    }
   ],
   "source": [
    "ordem('peixe', 'abacate', 'maçã')"
   ]
  },
  {
   "cell_type": "markdown",
   "metadata": {},
   "source": [
    "Crie uma função que receba uma quantidade indefinida de palavras e retorne uma lista deles em ordem alfabética."
   ]
  },
  {
   "cell_type": "code",
   "execution_count": 61,
   "metadata": {},
   "outputs": [],
   "source": [
    "def ordem(*args):\n",
    "    lista = list(args)\n",
    "    lista.sort()\n",
    "    return lista"
   ]
  },
  {
   "cell_type": "code",
   "execution_count": 62,
   "metadata": {},
   "outputs": [
    {
     "data": {
      "text/plain": [
       "['abacate', 'arroz', 'banana', 'kiwi', 'maçã', 'peixe']"
      ]
     },
     "execution_count": 62,
     "metadata": {},
     "output_type": "execute_result"
    }
   ],
   "source": [
    "ordem('peixe', 'abacate', 'maçã', 'kiwi', 'banana', 'arroz')"
   ]
  },
  {
   "cell_type": "markdown",
   "metadata": {},
   "source": [
    "## Tuplas"
   ]
  },
  {
   "cell_type": "markdown",
   "metadata": {},
   "source": [
    "Faça um programa que atribua o valor 10 para uma variável `a` e 57 para uma variável `b`, inverta os valores (`a` vira 57 e `b` vira 10) e no final mostre os resultados."
   ]
  },
  {
   "cell_type": "code",
   "execution_count": 63,
   "metadata": {},
   "outputs": [
    {
     "name": "stdout",
     "output_type": "stream",
     "text": [
      "57 10\n"
     ]
    }
   ],
   "source": [
    "a = 10\n",
    "b = 57\n",
    "\n",
    "c = a\n",
    "a = b\n",
    "b = c\n",
    "\n",
    "print(a, b)"
   ]
  },
  {
   "cell_type": "markdown",
   "metadata": {},
   "source": [
    "Agora faça a mesma coisa em três linhas."
   ]
  },
  {
   "cell_type": "code",
   "execution_count": 64,
   "metadata": {},
   "outputs": [
    {
     "name": "stdout",
     "output_type": "stream",
     "text": [
      "57 10\n"
     ]
    }
   ],
   "source": [
    "a, b = 10, 57\n",
    "a, b = b, a\n",
    "print(a, b)"
   ]
  },
  {
   "cell_type": "markdown",
   "metadata": {},
   "source": [
    "divmod:"
   ]
  },
  {
   "cell_type": "code",
   "execution_count": 66,
   "metadata": {},
   "outputs": [
    {
     "data": {
      "text/plain": [
       "1"
      ]
     },
     "execution_count": 66,
     "metadata": {},
     "output_type": "execute_result"
    }
   ],
   "source": [
    "5//3"
   ]
  },
  {
   "cell_type": "code",
   "execution_count": 67,
   "metadata": {},
   "outputs": [
    {
     "data": {
      "text/plain": [
       "2"
      ]
     },
     "execution_count": 67,
     "metadata": {},
     "output_type": "execute_result"
    }
   ],
   "source": [
    "5%3"
   ]
  },
  {
   "cell_type": "code",
   "execution_count": 70,
   "metadata": {},
   "outputs": [],
   "source": [
    "divisao, resto = divmod(5, 3)"
   ]
  },
  {
   "cell_type": "code",
   "execution_count": 72,
   "metadata": {},
   "outputs": [
    {
     "data": {
      "text/plain": [
       "(1, 2)"
      ]
     },
     "execution_count": 72,
     "metadata": {},
     "output_type": "execute_result"
    }
   ],
   "source": [
    "divisao, resto"
   ]
  },
  {
   "cell_type": "markdown",
   "metadata": {},
   "source": [
    "## Dicionários"
   ]
  },
  {
   "cell_type": "code",
   "execution_count": 74,
   "metadata": {},
   "outputs": [
    {
     "data": {
      "text/plain": [
       "{1: 'aaa', 2: 'bbb', 3: 'ccc'}"
      ]
     },
     "execution_count": 74,
     "metadata": {},
     "output_type": "execute_result"
    }
   ],
   "source": [
    "dicionario = {1: 'aaa', 2: 'bbb', 3: 'ccc'}\n",
    "dicionario"
   ]
  },
  {
   "cell_type": "code",
   "execution_count": 75,
   "metadata": {},
   "outputs": [
    {
     "data": {
      "text/plain": [
       "3"
      ]
     },
     "execution_count": 75,
     "metadata": {},
     "output_type": "execute_result"
    }
   ],
   "source": [
    "len(dicionario)"
   ]
  },
  {
   "cell_type": "code",
   "execution_count": 76,
   "metadata": {},
   "outputs": [
    {
     "data": {
      "text/plain": [
       "{1: 'aaa', 3: 'ccc'}"
      ]
     },
     "execution_count": 76,
     "metadata": {},
     "output_type": "execute_result"
    }
   ],
   "source": [
    "del(dicionario[2])\n",
    "dicionario"
   ]
  },
  {
   "cell_type": "code",
   "execution_count": 77,
   "metadata": {},
   "outputs": [],
   "source": [
    "dicionario['novo_elemento'] = 'palavra'"
   ]
  },
  {
   "cell_type": "code",
   "execution_count": 78,
   "metadata": {},
   "outputs": [
    {
     "data": {
      "text/plain": [
       "{1: 'aaa', 3: 'ccc', 'novo_elemento': 'palavra'}"
      ]
     },
     "execution_count": 78,
     "metadata": {},
     "output_type": "execute_result"
    }
   ],
   "source": [
    "dicionario"
   ]
  },
  {
   "cell_type": "code",
   "execution_count": 79,
   "metadata": {},
   "outputs": [
    {
     "data": {
      "text/plain": [
       "'aaa'"
      ]
     },
     "execution_count": 79,
     "metadata": {},
     "output_type": "execute_result"
    }
   ],
   "source": [
    "dicionario[1]"
   ]
  },
  {
   "cell_type": "code",
   "execution_count": 80,
   "metadata": {},
   "outputs": [
    {
     "data": {
      "text/plain": [
       "'palavra'"
      ]
     },
     "execution_count": 80,
     "metadata": {},
     "output_type": "execute_result"
    }
   ],
   "source": [
    "dicionario['novo_elemento']"
   ]
  },
  {
   "cell_type": "code",
   "execution_count": 82,
   "metadata": {},
   "outputs": [
    {
     "ename": "KeyError",
     "evalue": "0",
     "output_type": "error",
     "traceback": [
      "\u001b[0;31m---------------------------------------------------------------------------\u001b[0m",
      "\u001b[0;31mKeyError\u001b[0m                                  Traceback (most recent call last)",
      "\u001b[0;32m<ipython-input-82-ab1248cb079b>\u001b[0m in \u001b[0;36m<module>\u001b[0;34m\u001b[0m\n\u001b[0;32m----> 1\u001b[0;31m \u001b[0mdicionario\u001b[0m\u001b[0;34m[\u001b[0m\u001b[0;36m0\u001b[0m\u001b[0;34m]\u001b[0m\u001b[0;34m\u001b[0m\u001b[0;34m\u001b[0m\u001b[0m\n\u001b[0m",
      "\u001b[0;31mKeyError\u001b[0m: 0"
     ]
    }
   ],
   "source": [
    "dicionario[2]"
   ]
  },
  {
   "cell_type": "code",
   "execution_count": 83,
   "metadata": {},
   "outputs": [
    {
     "ename": "KeyError",
     "evalue": "0",
     "output_type": "error",
     "traceback": [
      "\u001b[0;31m---------------------------------------------------------------------------\u001b[0m",
      "\u001b[0;31mKeyError\u001b[0m                                  Traceback (most recent call last)",
      "\u001b[0;32m<ipython-input-83-ab1248cb079b>\u001b[0m in \u001b[0;36m<module>\u001b[0;34m\u001b[0m\n\u001b[0;32m----> 1\u001b[0;31m \u001b[0mdicionario\u001b[0m\u001b[0;34m[\u001b[0m\u001b[0;36m0\u001b[0m\u001b[0;34m]\u001b[0m\u001b[0;34m\u001b[0m\u001b[0;34m\u001b[0m\u001b[0m\n\u001b[0m",
      "\u001b[0;31mKeyError\u001b[0m: 0"
     ]
    }
   ],
   "source": [
    "dicionario[0]"
   ]
  },
  {
   "cell_type": "code",
   "execution_count": 84,
   "metadata": {},
   "outputs": [
    {
     "data": {
      "text/plain": [
       "{1: 'aaa', 2: 'bbb', 3: 'ccc'}"
      ]
     },
     "execution_count": 84,
     "metadata": {},
     "output_type": "execute_result"
    }
   ],
   "source": [
    "dicionario = {1: 'aaa', 2: 'bbb', 3: 'ccc'}\n",
    "dicionario"
   ]
  },
  {
   "cell_type": "code",
   "execution_count": 85,
   "metadata": {},
   "outputs": [],
   "source": [
    "item = dicionario.popitem()"
   ]
  },
  {
   "cell_type": "code",
   "execution_count": 86,
   "metadata": {},
   "outputs": [
    {
     "data": {
      "text/plain": [
       "{1: 'aaa', 2: 'bbb'}"
      ]
     },
     "execution_count": 86,
     "metadata": {},
     "output_type": "execute_result"
    }
   ],
   "source": [
    "dicionario"
   ]
  },
  {
   "cell_type": "code",
   "execution_count": 87,
   "metadata": {},
   "outputs": [
    {
     "data": {
      "text/plain": [
       "(3, 'ccc')"
      ]
     },
     "execution_count": 87,
     "metadata": {},
     "output_type": "execute_result"
    }
   ],
   "source": [
    "item"
   ]
  },
  {
   "cell_type": "code",
   "execution_count": 88,
   "metadata": {},
   "outputs": [
    {
     "data": {
      "text/plain": [
       "{1: 'aaa', 2: 'bbb'}"
      ]
     },
     "execution_count": 88,
     "metadata": {},
     "output_type": "execute_result"
    }
   ],
   "source": [
    "dicionario"
   ]
  },
  {
   "cell_type": "code",
   "execution_count": 92,
   "metadata": {},
   "outputs": [
    {
     "data": {
      "text/plain": [
       "True"
      ]
     },
     "execution_count": 92,
     "metadata": {},
     "output_type": "execute_result"
    }
   ],
   "source": [
    "1 in dicionario"
   ]
  },
  {
   "cell_type": "code",
   "execution_count": 96,
   "metadata": {},
   "outputs": [],
   "source": [
    "if 3 in dicionario:\n",
    "    del(dicionario[3])\n",
    "    "
   ]
  },
  {
   "cell_type": "code",
   "execution_count": 97,
   "metadata": {},
   "outputs": [
    {
     "data": {
      "text/plain": [
       "{1: 'aaa', 2: 'bbb'}"
      ]
     },
     "execution_count": 97,
     "metadata": {},
     "output_type": "execute_result"
    }
   ],
   "source": [
    "dicionario"
   ]
  },
  {
   "cell_type": "code",
   "execution_count": 102,
   "metadata": {},
   "outputs": [
    {
     "name": "stdout",
     "output_type": "stream",
     "text": [
      "chave nao existe\n"
     ]
    }
   ],
   "source": [
    "chave = 3\n",
    "if chave in dicionario:\n",
    "    print(dicionario[chave])\n",
    "else:\n",
    "    print('chave nao existe')"
   ]
  },
  {
   "cell_type": "code",
   "execution_count": 105,
   "metadata": {},
   "outputs": [
    {
     "data": {
      "text/plain": [
       "[1, 2, 3, 9, 8, 7]"
      ]
     },
     "execution_count": 105,
     "metadata": {},
     "output_type": "execute_result"
    }
   ],
   "source": [
    "l1 = [1, 2, 3]\n",
    "l2 = [9, 8, 7]\n",
    "l1 + l2"
   ]
  },
  {
   "cell_type": "code",
   "execution_count": 113,
   "metadata": {},
   "outputs": [],
   "source": [
    "d1 = {'a': 8, 'b': -1}\n",
    "d2 = {'a': 7, 'd': -5}"
   ]
  },
  {
   "cell_type": "code",
   "execution_count": 114,
   "metadata": {},
   "outputs": [
    {
     "data": {
      "text/plain": [
       "{'a': 8, 'b': -1}"
      ]
     },
     "execution_count": 114,
     "metadata": {},
     "output_type": "execute_result"
    }
   ],
   "source": [
    "d1"
   ]
  },
  {
   "cell_type": "code",
   "execution_count": 115,
   "metadata": {},
   "outputs": [
    {
     "data": {
      "text/plain": [
       "{'a': 7, 'd': -5}"
      ]
     },
     "execution_count": 115,
     "metadata": {},
     "output_type": "execute_result"
    }
   ],
   "source": [
    "d2"
   ]
  },
  {
   "cell_type": "code",
   "execution_count": 116,
   "metadata": {},
   "outputs": [],
   "source": [
    "d1.update(d2)"
   ]
  },
  {
   "cell_type": "code",
   "execution_count": 117,
   "metadata": {},
   "outputs": [
    {
     "data": {
      "text/plain": [
       "{'a': 7, 'b': -1, 'd': -5}"
      ]
     },
     "execution_count": 117,
     "metadata": {},
     "output_type": "execute_result"
    }
   ],
   "source": [
    "d1"
   ]
  },
  {
   "cell_type": "code",
   "execution_count": 112,
   "metadata": {},
   "outputs": [
    {
     "data": {
      "text/plain": [
       "{'c': 7, 'd': -5}"
      ]
     },
     "execution_count": 112,
     "metadata": {},
     "output_type": "execute_result"
    }
   ],
   "source": [
    "d2"
   ]
  },
  {
   "cell_type": "code",
   "execution_count": 118,
   "metadata": {},
   "outputs": [
    {
     "data": {
      "text/plain": [
       "{'a': 7, 'b': -1, 'd': -5}"
      ]
     },
     "execution_count": 118,
     "metadata": {},
     "output_type": "execute_result"
    }
   ],
   "source": [
    "d1"
   ]
  },
  {
   "cell_type": "code",
   "execution_count": 120,
   "metadata": {},
   "outputs": [
    {
     "name": "stdout",
     "output_type": "stream",
     "text": [
      "a\n",
      "b\n",
      "d\n",
      "7\n",
      "-1\n",
      "-5\n"
     ]
    }
   ],
   "source": [
    "for i in d1:\n",
    "    print(i)\n",
    "    \n",
    "for i in d1:\n",
    "    print(d1[i])"
   ]
  },
  {
   "cell_type": "code",
   "execution_count": 122,
   "metadata": {},
   "outputs": [
    {
     "name": "stdout",
     "output_type": "stream",
     "text": [
      "7\n",
      "-1\n",
      "-5\n"
     ]
    }
   ],
   "source": [
    "for i in d1.values():\n",
    "    print(i)"
   ]
  },
  {
   "cell_type": "code",
   "execution_count": 124,
   "metadata": {},
   "outputs": [
    {
     "name": "stdout",
     "output_type": "stream",
     "text": [
      "0 a 7\n",
      "1 b -1\n",
      "2 d -5\n"
     ]
    }
   ],
   "source": [
    "for i, chave in enumerate(d1):\n",
    "    print(i, chave, d1[chave])"
   ]
  },
  {
   "cell_type": "code",
   "execution_count": 126,
   "metadata": {},
   "outputs": [
    {
     "name": "stdout",
     "output_type": "stream",
     "text": [
      "a 7\n",
      "a 7\n",
      "b -1\n",
      "b -1\n",
      "d -5\n",
      "d -5\n"
     ]
    }
   ],
   "source": [
    "for chave, valor in d1.items():\n",
    "    print(chave, valor)\n",
    "    print(chave, d1[chave])"
   ]
  },
  {
   "cell_type": "markdown",
   "metadata": {},
   "source": [
    "Crie um dicionário que armazena o nome e o filme preferido das pessoas da sua squad. Mostre na tela a quantidade de itens nesse dicionário e o seu conteúdo."
   ]
  },
  {
   "cell_type": "code",
   "execution_count": null,
   "metadata": {},
   "outputs": [],
   "source": []
  },
  {
   "cell_type": "markdown",
   "metadata": {},
   "source": [
    "Faça um programa que usa as duas listas que armazenam nome e comida favorita de pessoas (feito no começo da aula) e cria um dicionário."
   ]
  },
  {
   "cell_type": "code",
   "execution_count": null,
   "metadata": {},
   "outputs": [],
   "source": []
  },
  {
   "cell_type": "markdown",
   "metadata": {},
   "source": [
    "Complete o programa anterior para mostrar na tela as informações do dicionário da seguinte maneira:"
   ]
  },
  {
   "cell_type": "raw",
   "metadata": {},
   "source": [
    "A comida preferida de Rychard é macaxeira com carne de sol."
   ]
  },
  {
   "cell_type": "code",
   "execution_count": null,
   "metadata": {},
   "outputs": [],
   "source": []
  },
  {
   "cell_type": "markdown",
   "metadata": {},
   "source": [
    "## Exercícios"
   ]
  },
  {
   "cell_type": "markdown",
   "metadata": {},
   "source": [
    "Escreva uma função chamada most_frequent que receba 3 strings, uma palavra em português, outra com sua tradução para o inglês e a terceira com a tradução em espanhol e exiba as letras em ordem decrescente de frequência.\n",
    "\n",
    "Dica: ao final, transformar em uma lista de tuplas e usar o sorted(), passando o parâmetro key. "
   ]
  },
  {
   "cell_type": "code",
   "execution_count": 23,
   "metadata": {},
   "outputs": [
    {
     "name": "stdout",
     "output_type": "stream",
     "text": [
      "[('a', 4), ('c', 2), ('s', 2), ('h', 1), ('o', 1), ('m', 1), ('e', 1)]\n"
     ]
    }
   ],
   "source": [
    "def most_frequent(p_portugues, p_ingles, p_espanhol):\n",
    "    lista_palavras = [p_portugues, p_ingles, p_espanhol]\n",
    "    dicio_letras = {}\n",
    "    for palavra in lista_palavras:\n",
    "        for letra in palavra:\n",
    "            if letra not in dicio_letras:\n",
    "                dicio_letras[letra] = 1\n",
    "            else:\n",
    "                dicio_letras[letra] += 1\n",
    "    lista_letras = sorted(dicio_letras.items(), key=lambda x: x[1], reverse=True)\n",
    "    print(lista_letras)\n",
    "    \n",
    "most_frequent('casa', 'home', 'casa')"
   ]
  },
  {
   "cell_type": "markdown",
   "metadata": {},
   "source": [
    "Escreva um programa que leia uma lista de palavras de um arquivo (pesquise por 10 palavras que são anagramas, ponha uma em cada linha e adicione outras 10 palavras quaisquer que não são anagramas) e imprima todos os conjuntos de palavras que são anagramas.\n",
    "Aqui está um exemplo de como a saída pode parecer:\n",
    "\n",
    "        ['deltas', 'desalt', 'lasted', 'salted', 'slated', 'staled']\n",
    "        ['retainers', 'ternaries']\n",
    "        ['generating', 'greatening']\n",
    "        ['resmelts', 'smelters', 'termless']\n",
    "\n",
    "Dica: você pode querer construir um dicionário que mapeie uma coleção de letras a uma lista de palavras que podem ser soletradas com essas letras. A pergunta é: como representar a coleção de letras de forma que possa ser usada como uma chave?\n"
   ]
  },
  {
   "cell_type": "code",
   "execution_count": null,
   "metadata": {},
   "outputs": [],
   "source": []
  }
 ],
 "metadata": {
  "kernelspec": {
   "display_name": "Python 3",
   "language": "python",
   "name": "python3"
  },
  "language_info": {
   "codemirror_mode": {
    "name": "ipython",
    "version": 3
   },
   "file_extension": ".py",
   "mimetype": "text/x-python",
   "name": "python",
   "nbconvert_exporter": "python",
   "pygments_lexer": "ipython3",
   "version": "3.7.5"
  }
 },
 "nbformat": 4,
 "nbformat_minor": 2
}
