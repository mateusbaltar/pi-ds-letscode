{
 "cells": [
  {
   "cell_type": "code",
   "execution_count": 1,
   "metadata": {},
   "outputs": [],
   "source": [
    "from sklearn.datasets import load_iris\n",
    "import pandas as pd\n",
    "import numpy as np\n",
    "import os \n",
    "import path\n",
    "import sys\n",
    "import kaggle\n",
    "my_path = os.getcwd()"
   ]
  },
  {
   "cell_type": "code",
   "execution_count": 2,
   "metadata": {},
   "outputs": [
    {
     "name": "stdout",
     "output_type": "stream",
     "text": [
      "Downloading family-income-and-expenditure.zip to C:\\Users\\LAMFO\\Desktop\\GIT_PROJECTS\\lets_code\\Projeto_est\n",
      "\n"
     ]
    },
    {
     "name": "stderr",
     "output_type": "stream",
     "text": [
      "\n",
      "  0%|          | 0.00/3.69M [00:00<?, ?B/s]\n",
      " 27%|##7       | 1.00M/3.69M [00:00<00:00, 4.56MB/s]\n",
      " 54%|#####4    | 2.00M/3.69M [00:00<00:00, 4.40MB/s]\n",
      " 81%|########1 | 3.00M/3.69M [00:00<00:00, 4.22MB/s]\n",
      "100%|##########| 3.69M/3.69M [00:00<00:00, 4.16MB/s]\n"
     ]
    }
   ],
   "source": [
    "!kaggle datasets download -d grosvenpaul/family-income-and-expenditure"
   ]
  },
  {
   "cell_type": "code",
   "execution_count": 3,
   "metadata": {},
   "outputs": [],
   "source": [
    "os.mkdir('Dataset')\n",
    "dataset_path = os.getcwd() + '\\\\Dataset\\\\'"
   ]
  },
  {
   "cell_type": "code",
   "execution_count": 5,
   "metadata": {},
   "outputs": [],
   "source": [
    "import zipfile\n",
    "with zipfile.ZipFile('family-income-and-expenditure.zip', 'r') as zip_ref:\n",
    "    zip_ref.extractall(os.getcwd() + \"\\\\Dataset\")"
   ]
  },
  {
   "cell_type": "code",
   "execution_count": null,
   "metadata": {},
   "outputs": [],
   "source": [
    "pd.read_csv()"
   ]
  }
 ],
 "metadata": {
  "kernelspec": {
   "display_name": "Python 3",
   "language": "python",
   "name": "python3"
  },
  "language_info": {
   "codemirror_mode": {
    "name": "ipython",
    "version": 3
   },
   "file_extension": ".py",
   "mimetype": "text/x-python",
   "name": "python",
   "nbconvert_exporter": "python",
   "pygments_lexer": "ipython3",
   "version": "3.6.5"
  }
 },
 "nbformat": 4,
 "nbformat_minor": 2
}
