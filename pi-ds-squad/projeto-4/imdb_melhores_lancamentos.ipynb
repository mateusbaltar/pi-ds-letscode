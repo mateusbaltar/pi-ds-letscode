{
 "cells": [
  {
   "cell_type": "markdown",
   "metadata": {},
   "source": [
    "## Projeto Modulo 3 & 4"
   ]
  },
  {
   "cell_type": "markdown",
   "metadata": {},
   "source": [
    "**DESCRIÇÃO**\n",
    "\n",
    "Eu, como Gestor de Conteúdo, gostaria de visualizar os lançamentos do último ano com as melhores notas e assim, aferir o investimento realizado.\n",
    "\n",
    "**REGRAS DE NEGÓCIO**\n",
    "- Considerar apenas lançamentos da Netiflix do último ano e não liberações do último ano. &#x2705;\n",
    "- Considerar as notas / avaliações &#x2705;\n",
    "\n",
    "**CRITÉRIOS DE ACEITE**\n",
    "- Quero visualizar de forma gráfica\n",
    "- Quero visualização Geral e por Gênero\n",
    "- Apresentar as notas no gráfico"
   ]
  },
  {
   "cell_type": "markdown",
   "metadata": {},
   "source": [
    "#### Bibliotecas"
   ]
  },
  {
   "cell_type": "code",
   "execution_count": 6,
   "metadata": {},
   "outputs": [],
   "source": [
    "import pandas as pd\n",
    "import numpy as np\n",
    "import matplotlib.pyplot as plt\n",
    "import os\n",
    "from datetime import datetime"
   ]
  },
  {
   "cell_type": "markdown",
   "metadata": {},
   "source": [
    "**Importando Tabelas**"
   ]
  },
  {
   "cell_type": "code",
   "execution_count": 13,
   "metadata": {},
   "outputs": [
    {
     "name": "stdout",
     "output_type": "stream",
     "text": [
      "df_movies\n",
      "df_names\n",
      "df_ratings\n"
     ]
    }
   ],
   "source": [
    "path = '.'\n",
    "\n",
    "for arq in os.listdir(path):\n",
    "    if arq.endswith('.csv'):\n",
    "        globals()['df_' + arq[5:-4]] = pd.read_csv(arq)\n",
    "        print('df_{}'.format(arq[5:-4]))  "
   ]
  },
  {
   "cell_type": "markdown",
   "metadata": {},
   "source": [
    "**ETL Movies**"
   ]
  },
  {
   "cell_type": "code",
   "execution_count": 30,
   "metadata": {},
   "outputs": [
    {
     "data": {
      "text/html": [
       "<div>\n",
       "<style scoped>\n",
       "    .dataframe tbody tr th:only-of-type {\n",
       "        vertical-align: middle;\n",
       "    }\n",
       "\n",
       "    .dataframe tbody tr th {\n",
       "        vertical-align: top;\n",
       "    }\n",
       "\n",
       "    .dataframe thead th {\n",
       "        text-align: right;\n",
       "    }\n",
       "</style>\n",
       "<table border=\"1\" class=\"dataframe\">\n",
       "  <thead>\n",
       "    <tr style=\"text-align: right;\">\n",
       "      <th></th>\n",
       "      <th>title</th>\n",
       "      <th>avg_vote</th>\n",
       "      <th>votes</th>\n",
       "      <th>budget</th>\n",
       "    </tr>\n",
       "  </thead>\n",
       "  <tbody>\n",
       "    <tr>\n",
       "      <th>77908</th>\n",
       "      <td>Love in Kilnerry</td>\n",
       "      <td>10.0</td>\n",
       "      <td>2360</td>\n",
       "      <td>$ 1200000</td>\n",
       "    </tr>\n",
       "    <tr>\n",
       "      <th>52002</th>\n",
       "      <td>Kirket</td>\n",
       "      <td>10.0</td>\n",
       "      <td>587</td>\n",
       "      <td>NaN</td>\n",
       "    </tr>\n",
       "    <tr>\n",
       "      <th>81138</th>\n",
       "      <td>Gini Helida Kathe</td>\n",
       "      <td>9.8</td>\n",
       "      <td>425</td>\n",
       "      <td>NaN</td>\n",
       "    </tr>\n",
       "    <tr>\n",
       "      <th>51300</th>\n",
       "      <td>Runam</td>\n",
       "      <td>9.7</td>\n",
       "      <td>133</td>\n",
       "      <td>NaN</td>\n",
       "    </tr>\n",
       "    <tr>\n",
       "      <th>81133</th>\n",
       "      <td>Android Kunjappan Version 5.25</td>\n",
       "      <td>9.6</td>\n",
       "      <td>1176</td>\n",
       "      <td>NaN</td>\n",
       "    </tr>\n",
       "    <tr>\n",
       "      <th>...</th>\n",
       "      <td>...</td>\n",
       "      <td>...</td>\n",
       "      <td>...</td>\n",
       "      <td>...</td>\n",
       "    </tr>\n",
       "    <tr>\n",
       "      <th>77372</th>\n",
       "      <td>Possession Diaries</td>\n",
       "      <td>1.8</td>\n",
       "      <td>108</td>\n",
       "      <td>NaN</td>\n",
       "    </tr>\n",
       "    <tr>\n",
       "      <th>81227</th>\n",
       "      <td>Adventures of Aladdin</td>\n",
       "      <td>1.7</td>\n",
       "      <td>998</td>\n",
       "      <td>NaN</td>\n",
       "    </tr>\n",
       "    <tr>\n",
       "      <th>81067</th>\n",
       "      <td>Borç Harç</td>\n",
       "      <td>1.4</td>\n",
       "      <td>3844</td>\n",
       "      <td>NaN</td>\n",
       "    </tr>\n",
       "    <tr>\n",
       "      <th>79384</th>\n",
       "      <td>Loqueesha</td>\n",
       "      <td>1.2</td>\n",
       "      <td>775</td>\n",
       "      <td>NaN</td>\n",
       "    </tr>\n",
       "    <tr>\n",
       "      <th>81206</th>\n",
       "      <td>Greyhound Attack</td>\n",
       "      <td>1.2</td>\n",
       "      <td>134</td>\n",
       "      <td>$ 1500000</td>\n",
       "    </tr>\n",
       "  </tbody>\n",
       "</table>\n",
       "<p>1567 rows × 4 columns</p>\n",
       "</div>"
      ],
      "text/plain": [
       "                                title  avg_vote  votes     budget\n",
       "77908                Love in Kilnerry      10.0   2360  $ 1200000\n",
       "52002                          Kirket      10.0    587        NaN\n",
       "81138               Gini Helida Kathe       9.8    425        NaN\n",
       "51300                           Runam       9.7    133        NaN\n",
       "81133  Android Kunjappan Version 5.25       9.6   1176        NaN\n",
       "...                               ...       ...    ...        ...\n",
       "77372              Possession Diaries       1.8    108        NaN\n",
       "81227           Adventures of Aladdin       1.7    998        NaN\n",
       "81067                       Borç Harç       1.4   3844        NaN\n",
       "79384                       Loqueesha       1.2    775        NaN\n",
       "81206                Greyhound Attack       1.2    134  $ 1500000\n",
       "\n",
       "[1567 rows x 4 columns]"
      ]
     },
     "execution_count": 30,
     "metadata": {},
     "output_type": "execute_result"
    }
   ],
   "source": [
    "df_movies = df_movies[df_movies.year >= datetime.now().year - 1]\n",
    "df_movies = df_movies.sort_values(by=['avg_vote','votes'], ascending=False)\n",
    "\n",
    "df_movies[['title','avg_vote','votes','budget']]"
   ]
  }
 ],
 "metadata": {
  "kernelspec": {
   "display_name": "Python 3",
   "language": "python",
   "name": "python3"
  },
  "language_info": {
   "codemirror_mode": {
    "name": "ipython",
    "version": 3
   },
   "file_extension": ".py",
   "mimetype": "text/x-python",
   "name": "python",
   "nbconvert_exporter": "python",
   "pygments_lexer": "ipython3",
   "version": "3.7.4"
  }
 },
 "nbformat": 4,
 "nbformat_minor": 2
}
