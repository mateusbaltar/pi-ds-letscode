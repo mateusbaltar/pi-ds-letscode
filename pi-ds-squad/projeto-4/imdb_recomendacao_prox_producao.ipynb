{
 "cells": [
  {
   "cell_type": "markdown",
   "metadata": {},
   "source": [
    "## Projeto Modulo 3 & 4"
   ]
  },
  {
   "cell_type": "markdown",
   "metadata": {},
   "source": [
    "**DESCRIÇÃO**\n",
    "\n",
    "Eu, como Gestor de Conteúdo, gostaria de uma ferramenta capaz de apontar qual o tema, gênero e atores da minha próxima produção, com a maior possibilidade de sucesso, para que não tenha desperdício de investimento.\n",
    "\n",
    "**REGRAS DE NEGÓCIO**\n",
    "- Considerar para o Tema (Série, Filme ou Documentário) a média de notas\n",
    "- Considerar para Gênero (Romance, Ficção, Aventura, Comédia, ...) a quantidade de visualizações &#x2705;\n",
    "- Considerar para atores, a relação da quantidade de filmes X número de Visualizações X notas.\n",
    "\n",
    "**CRITÉRIOS DE ACEITE**\n",
    "- Ter apenas uma sugestão\n",
    "- Ser apresentada a base de cálculo e estimativa\n",
    "- Considerar os últimos 100 lançamentos &#x2705;"
   ]
  },
  {
   "cell_type": "markdown",
   "metadata": {},
   "source": [
    "#### Bibliotecas"
   ]
  },
  {
   "cell_type": "code",
   "execution_count": 72,
   "metadata": {},
   "outputs": [],
   "source": [
    "import pandas as pd\n",
    "import numpy as np\n",
    "import matplotlib.pyplot as plt\n",
    "import os"
   ]
  },
  {
   "cell_type": "markdown",
   "metadata": {},
   "source": [
    "**Importando Tabelas**"
   ]
  },
  {
   "cell_type": "code",
   "execution_count": 73,
   "metadata": {},
   "outputs": [
    {
     "name": "stdout",
     "output_type": "stream",
     "text": [
      "df_movies\n",
      "df_names\n",
      "df_ratings\n"
     ]
    }
   ],
   "source": [
    "path = '.'\n",
    "\n",
    "for arq in os.listdir(path):\n",
    "    if arq.endswith('.csv'):\n",
    "        globals()['df_' + arq[5:-4]] = pd.read_csv(arq)\n",
    "        print('df_{}'.format(arq[5:-4]))  "
   ]
  },
  {
   "cell_type": "markdown",
   "metadata": {},
   "source": [
    "**ETL Movies**"
   ]
  },
  {
   "cell_type": "markdown",
   "metadata": {},
   "source": [
    "Funcao de Suporte"
   ]
  },
  {
   "cell_type": "code",
   "execution_count": 115,
   "metadata": {},
   "outputs": [],
   "source": [
    "# Seleciona os 100 últimos lançamentos\n",
    "df_movies_copy = df_movies.sort_values(by='date_published', ascending=False).head(100)"
   ]
  },
  {
   "cell_type": "code",
   "execution_count": 4,
   "metadata": {},
   "outputs": [],
   "source": [
    "df_etl_movies = df_movies_copy[['imdb_title_id', 'genre', 'votes']]\n",
    "\n",
    "# Identifica os gêneros dos filmes\n",
    "df_genre = df_etl_movies.genre.str.split(expand=True, pat=',')\n",
    "df_genre = df_genre.applymap(lambda x: x.strip() if isinstance(x, str) else x)\n",
    "df_genre = df_genre[0].append([df_genre[1], df_genre[2]]).unique()"
   ]
  },
  {
   "cell_type": "code",
   "execution_count": 18,
   "metadata": {},
   "outputs": [
    {
     "data": {
      "image/png": "[encoded data removed]",
      "text/plain": [
       "<Figure size 432x288 with 1 Axes>"
      ]
     },
     "metadata": {
      "needs_background": "light"
     },
     "output_type": "display_data"
    }
   ],
   "source": [
    "# Verifica a frequência de cada gênero no dataframe\n",
    "lista_generos = []\n",
    "for g in df_genre:\n",
    "    try:\n",
    "        # Foi considerado o número de votos, no lugar de número de visualizações, para definir o gênero mais assistido.\n",
    "        lista_generos.append(df_etl_movies.loc[df_etl_movies['genre'].str.contains(g)]['votes'].sum())        \n",
    "    except:\n",
    "        lista_generos.append(None)\n",
    "        \n",
    "df = pd.DataFrame(lista_generos, df_genre, columns = ['Frequência'])\n",
    "df = df.sort_values(by='Frequência', ascending = False)\n",
    "ax = df.plot(kind='bar')\n",
    "\n",
    "plt.show()"
   ]
  },
  {
   "cell_type": "code",
   "execution_count": 75,
   "metadata": {},
   "outputs": [
    {
     "data": {
      "text/html": [
       "<div>\n",
       "<style scoped>\n",
       "    .dataframe tbody tr th:only-of-type {\n",
       "        vertical-align: middle;\n",
       "    }\n",
       "\n",
       "    .dataframe tbody tr th {\n",
       "        vertical-align: top;\n",
       "    }\n",
       "\n",
       "    .dataframe thead th {\n",
       "        text-align: right;\n",
       "    }\n",
       "</style>\n",
       "<table border=\"1\" class=\"dataframe\">\n",
       "  <thead>\n",
       "    <tr style=\"text-align: right;\">\n",
       "      <th></th>\n",
       "      <th>imdb_title_id</th>\n",
       "      <th>actors</th>\n",
       "      <th>votes</th>\n",
       "    </tr>\n",
       "  </thead>\n",
       "  <tbody>\n",
       "    <tr>\n",
       "      <th>80320</th>\n",
       "      <td>tt8390612</td>\n",
       "      <td>Arndís Hrönn Egilsdóttir, Sveinn Ólafur Gunnar...</td>\n",
       "      <td>174</td>\n",
       "    </tr>\n",
       "    <tr>\n",
       "      <th>80605</th>\n",
       "      <td>tt8717446</td>\n",
       "      <td>Kate Winslet, Sam Neill, Mia Wasikowska, Rainn...</td>\n",
       "      <td>142</td>\n",
       "    </tr>\n",
       "    <tr>\n",
       "      <th>80337</th>\n",
       "      <td>tt8399664</td>\n",
       "      <td>Ben Mendelsohn, Essie Davis, Eliza Scanlen, Em...</td>\n",
       "      <td>301</td>\n",
       "    </tr>\n",
       "    <tr>\n",
       "      <th>80988</th>\n",
       "      <td>tt9206516</td>\n",
       "      <td>Emma Dib, Armando Espitia</td>\n",
       "      <td>115</td>\n",
       "    </tr>\n",
       "    <tr>\n",
       "      <th>80248</th>\n",
       "      <td>tt8323120</td>\n",
       "      <td>Catherine Deneuve, Juliette Binoche, Ethan Haw...</td>\n",
       "      <td>579</td>\n",
       "    </tr>\n",
       "    <tr>\n",
       "      <th>...</th>\n",
       "      <td>...</td>\n",
       "      <td>...</td>\n",
       "      <td>...</td>\n",
       "    </tr>\n",
       "    <tr>\n",
       "      <th>81171</th>\n",
       "      <td>tt9626278</td>\n",
       "      <td>Tallie Medel, Norma Kuhling, Lorelei Romani, C...</td>\n",
       "      <td>149</td>\n",
       "    </tr>\n",
       "    <tr>\n",
       "      <th>81136</th>\n",
       "      <td>tt9534808</td>\n",
       "      <td>Sean Patrick Flanery, Dolph Lundgren, Chuck Li...</td>\n",
       "      <td>239</td>\n",
       "    </tr>\n",
       "    <tr>\n",
       "      <th>80072</th>\n",
       "      <td>tt8151874</td>\n",
       "      <td>Shia LaBeouf, Lucas Hedges, Noah Jupe, Byron B...</td>\n",
       "      <td>1318</td>\n",
       "    </tr>\n",
       "    <tr>\n",
       "      <th>81133</th>\n",
       "      <td>tt9526826</td>\n",
       "      <td>Soubin Shahir, Suraj Venjaramoodu, Kendy Zirdo...</td>\n",
       "      <td>1176</td>\n",
       "    </tr>\n",
       "    <tr>\n",
       "      <th>79024</th>\n",
       "      <td>tt7394816</td>\n",
       "      <td>Famke Janssen, Nicolas Cage, Kevin Durand, LaM...</td>\n",
       "      <td>1066</td>\n",
       "    </tr>\n",
       "  </tbody>\n",
       "</table>\n",
       "<p>100 rows × 3 columns</p>\n",
       "</div>"
      ],
      "text/plain": [
       "      imdb_title_id                                             actors  votes\n",
       "80320     tt8390612  Arndís Hrönn Egilsdóttir, Sveinn Ólafur Gunnar...    174\n",
       "80605     tt8717446  Kate Winslet, Sam Neill, Mia Wasikowska, Rainn...    142\n",
       "80337     tt8399664  Ben Mendelsohn, Essie Davis, Eliza Scanlen, Em...    301\n",
       "80988     tt9206516                          Emma Dib, Armando Espitia    115\n",
       "80248     tt8323120  Catherine Deneuve, Juliette Binoche, Ethan Haw...    579\n",
       "...             ...                                                ...    ...\n",
       "81171     tt9626278  Tallie Medel, Norma Kuhling, Lorelei Romani, C...    149\n",
       "81136     tt9534808  Sean Patrick Flanery, Dolph Lundgren, Chuck Li...    239\n",
       "80072     tt8151874  Shia LaBeouf, Lucas Hedges, Noah Jupe, Byron B...   1318\n",
       "81133     tt9526826  Soubin Shahir, Suraj Venjaramoodu, Kendy Zirdo...   1176\n",
       "79024     tt7394816  Famke Janssen, Nicolas Cage, Kevin Durand, LaM...   1066\n",
       "\n",
       "[100 rows x 3 columns]"
      ]
     },
     "execution_count": 75,
     "metadata": {},
     "output_type": "execute_result"
    }
   ],
   "source": [
    "df_etl_actors = df_movies_copy[['imdb_title_id','actors','votes']]\n",
    "df_etl_actors"
   ]
  },
  {
   "cell_type": "markdown",
   "metadata": {},
   "source": [
    "Funcao de Suporte"
   ]
  },
  {
   "cell_type": "code",
   "execution_count": 76,
   "metadata": {},
   "outputs": [],
   "source": [
    "def define_profession(x):\n",
    "    if 'actor' in str(x) or 'actress' in str(x):\n",
    "        return True\n",
    "    else:\n",
    "        return False"
   ]
  },
  {
   "cell_type": "code",
   "execution_count": 77,
   "metadata": {},
   "outputs": [],
   "source": [
    "df_names_copy = df_names[['name','death_year','primary_profession']]\n",
    "pd.options.mode.chained_assignment = None # Desabilita o Warning\n",
    "df_names_copy['Validation'] = df_names_copy['primary_profession'].apply(define_profession)\n",
    "df_names_copy = df_names_copy[(df_names_copy.death_year.isnull()) & (df_names_copy.Validation == True)]\n",
    "df_names_copy = np.array(df_names_copy['name'])"
   ]
  },
  {
   "cell_type": "code",
   "execution_count": 83,
   "metadata": {},
   "outputs": [
    {
     "data": {
      "text/plain": [
       "4195"
      ]
     },
     "execution_count": 83,
     "metadata": {},
     "output_type": "execute_result"
    }
   ],
   "source": [
    "name = 'Jordan'\n",
    "df_etl_actors[df_etl_actors['actors'].str.contains(name)]['votes'].sum()"
   ]
  },
  {
   "cell_type": "code",
   "execution_count": 84,
   "metadata": {
    "scrolled": false
   },
   "outputs": [
    {
     "data": {
      "text/html": [
       "<div>\n",
       "<style scoped>\n",
       "    .dataframe tbody tr th:only-of-type {\n",
       "        vertical-align: middle;\n",
       "    }\n",
       "\n",
       "    .dataframe tbody tr th {\n",
       "        vertical-align: top;\n",
       "    }\n",
       "\n",
       "    .dataframe thead th {\n",
       "        text-align: right;\n",
       "    }\n",
       "</style>\n",
       "<table border=\"1\" class=\"dataframe\">\n",
       "  <thead>\n",
       "    <tr style=\"text-align: right;\">\n",
       "      <th></th>\n",
       "      <th>imdb_title_id</th>\n",
       "      <th>actors</th>\n",
       "      <th>votes</th>\n",
       "    </tr>\n",
       "  </thead>\n",
       "  <tbody>\n",
       "    <tr>\n",
       "      <th>73383</th>\n",
       "      <td>tt4916630</td>\n",
       "      <td>Brie Larson, Michael B. Jordan, Jamie Foxx, Ti...</td>\n",
       "      <td>483</td>\n",
       "    </tr>\n",
       "    <tr>\n",
       "      <th>56129</th>\n",
       "      <td>tt1458902</td>\n",
       "      <td>Dean Cain, Stormi Maya, Stefanie Bloom, Devin ...</td>\n",
       "      <td>149</td>\n",
       "    </tr>\n",
       "    <tr>\n",
       "      <th>59631</th>\n",
       "      <td>tt1780967</td>\n",
       "      <td>Kristen Stewart, Margaret Qualley, Zazie Beetz...</td>\n",
       "      <td>486</td>\n",
       "    </tr>\n",
       "    <tr>\n",
       "      <th>62370</th>\n",
       "      <td>tt2114504</td>\n",
       "      <td>Eric Bauza, Timothy Omundson, Graham Verchere,...</td>\n",
       "      <td>2941</td>\n",
       "    </tr>\n",
       "    <tr>\n",
       "      <th>78164</th>\n",
       "      <td>tt6886080</td>\n",
       "      <td>Malin Akerman, Shea Whigham, Tony Hale, Kara H...</td>\n",
       "      <td>136</td>\n",
       "    </tr>\n",
       "  </tbody>\n",
       "</table>\n",
       "</div>"
      ],
      "text/plain": [
       "      imdb_title_id                                             actors  votes\n",
       "73383     tt4916630  Brie Larson, Michael B. Jordan, Jamie Foxx, Ti...    483\n",
       "56129     tt1458902  Dean Cain, Stormi Maya, Stefanie Bloom, Devin ...    149\n",
       "59631     tt1780967  Kristen Stewart, Margaret Qualley, Zazie Beetz...    486\n",
       "62370     tt2114504  Eric Bauza, Timothy Omundson, Graham Verchere,...   2941\n",
       "78164     tt6886080  Malin Akerman, Shea Whigham, Tony Hale, Kara H...    136"
      ]
     },
     "execution_count": 84,
     "metadata": {},
     "output_type": "execute_result"
    }
   ],
   "source": [
    "df_etl_actors[df_etl_actors['actors'].str.contains(name)]"
   ]
  },
  {
   "cell_type": "code",
   "execution_count": 124,
   "metadata": {},
   "outputs": [
    {
     "data": {
      "text/html": [
       "<div>\n",
       "<style scoped>\n",
       "    .dataframe tbody tr th:only-of-type {\n",
       "        vertical-align: middle;\n",
       "    }\n",
       "\n",
       "    .dataframe tbody tr th {\n",
       "        vertical-align: top;\n",
       "    }\n",
       "\n",
       "    .dataframe thead th {\n",
       "        text-align: right;\n",
       "    }\n",
       "</style>\n",
       "<table border=\"1\" class=\"dataframe\">\n",
       "  <thead>\n",
       "    <tr style=\"text-align: right;\">\n",
       "      <th></th>\n",
       "      <th>0</th>\n",
       "    </tr>\n",
       "  </thead>\n",
       "  <tbody>\n",
       "    <tr>\n",
       "      <th>Andrea Riseborough</th>\n",
       "      <td>2</td>\n",
       "    </tr>\n",
       "    <tr>\n",
       "      <th>Walton Goggins</th>\n",
       "      <td>2</td>\n",
       "    </tr>\n",
       "    <tr>\n",
       "      <th>LaMonica Garrett</th>\n",
       "      <td>2</td>\n",
       "    </tr>\n",
       "    <tr>\n",
       "      <th>Gael García Bernal</th>\n",
       "      <td>2</td>\n",
       "    </tr>\n",
       "    <tr>\n",
       "      <th>Wagner Moura</th>\n",
       "      <td>2</td>\n",
       "    </tr>\n",
       "    <tr>\n",
       "      <th>...</th>\n",
       "      <td>...</td>\n",
       "    </tr>\n",
       "    <tr>\n",
       "      <th>Sidney Cole</th>\n",
       "      <td>1</td>\n",
       "    </tr>\n",
       "    <tr>\n",
       "      <th>Juan Minujín</th>\n",
       "      <td>1</td>\n",
       "    </tr>\n",
       "    <tr>\n",
       "      <th>Anthony Hopkins</th>\n",
       "      <td>1</td>\n",
       "    </tr>\n",
       "    <tr>\n",
       "      <th>Jonathan Pryce</th>\n",
       "      <td>1</td>\n",
       "    </tr>\n",
       "    <tr>\n",
       "      <th>Brian Tester</th>\n",
       "      <td>1</td>\n",
       "    </tr>\n",
       "  </tbody>\n",
       "</table>\n",
       "<p>1306 rows × 1 columns</p>\n",
       "</div>"
      ],
      "text/plain": [
       "                    0\n",
       "Andrea Riseborough  2\n",
       "Walton Goggins      2\n",
       "LaMonica Garrett    2\n",
       "Gael García Bernal  2\n",
       "Wagner Moura        2\n",
       "...                ..\n",
       "Sidney Cole         1\n",
       "Juan Minujín        1\n",
       "Anthony Hopkins     1\n",
       "Jonathan Pryce      1\n",
       "Brian Tester        1\n",
       "\n",
       "[1306 rows x 1 columns]"
      ]
     },
     "execution_count": 124,
     "metadata": {},
     "output_type": "execute_result"
    }
   ],
   "source": [
    "dict_a = {}\n",
    "for lista in range(100):\n",
    "    for ator in df_movies_copy.iloc[lista,12].split(','):\n",
    "        if ator.strip() in dict_a.keys():\n",
    "            dict_a[ator.strip()] = dict_a[ator.strip()] + 1\n",
    "        else:\n",
    "            dict_a[ator.strip()] = 1\n",
    "            \n",
    "df_count_movies = pd.DataFrame.from_dict(dict_a, orient='index').sort_values(by=0, ascending=False)\n",
    "df_count_movies"
   ]
  },
  {
   "cell_type": "code",
   "execution_count": 120,
   "metadata": {},
   "outputs": [
    {
     "data": {
      "text/html": [
       "<div>\n",
       "<style scoped>\n",
       "    .dataframe tbody tr th:only-of-type {\n",
       "        vertical-align: middle;\n",
       "    }\n",
       "\n",
       "    .dataframe tbody tr th {\n",
       "        vertical-align: top;\n",
       "    }\n",
       "\n",
       "    .dataframe thead th {\n",
       "        text-align: right;\n",
       "    }\n",
       "</style>\n",
       "<table border=\"1\" class=\"dataframe\">\n",
       "  <thead>\n",
       "    <tr style=\"text-align: right;\">\n",
       "      <th></th>\n",
       "      <th>0</th>\n",
       "    </tr>\n",
       "  </thead>\n",
       "  <tbody>\n",
       "    <tr>\n",
       "      <th>Jeong Esuz</th>\n",
       "      <td>74076</td>\n",
       "    </tr>\n",
       "    <tr>\n",
       "      <th>So-dam Park</th>\n",
       "      <td>74076</td>\n",
       "    </tr>\n",
       "    <tr>\n",
       "      <th>Woo-sik Choi</th>\n",
       "      <td>74076</td>\n",
       "    </tr>\n",
       "    <tr>\n",
       "      <th>Yeo-jeong Jo</th>\n",
       "      <td>74076</td>\n",
       "    </tr>\n",
       "    <tr>\n",
       "      <th>Sun-kyun Lee</th>\n",
       "      <td>74076</td>\n",
       "    </tr>\n",
       "    <tr>\n",
       "      <th>...</th>\n",
       "      <td>...</td>\n",
       "    </tr>\n",
       "    <tr>\n",
       "      <th>Katerina Lipovska</th>\n",
       "      <td>111</td>\n",
       "    </tr>\n",
       "    <tr>\n",
       "      <th>Katinka Auberger</th>\n",
       "      <td>111</td>\n",
       "    </tr>\n",
       "    <tr>\n",
       "      <th>Dimitar Banenkin</th>\n",
       "      <td>111</td>\n",
       "    </tr>\n",
       "    <tr>\n",
       "      <th>Adelia-Constance Ocleppo</th>\n",
       "      <td>111</td>\n",
       "    </tr>\n",
       "    <tr>\n",
       "      <th>Sebastian Rudolph</th>\n",
       "      <td>111</td>\n",
       "    </tr>\n",
       "  </tbody>\n",
       "</table>\n",
       "<p>1306 rows × 1 columns</p>\n",
       "</div>"
      ],
      "text/plain": [
       "                              0\n",
       "Jeong Esuz                74076\n",
       "So-dam Park               74076\n",
       "Woo-sik Choi              74076\n",
       "Yeo-jeong Jo              74076\n",
       "Sun-kyun Lee              74076\n",
       "...                         ...\n",
       "Katerina Lipovska           111\n",
       "Katinka Auberger            111\n",
       "Dimitar Banenkin            111\n",
       "Adelia-Constance Ocleppo    111\n",
       "Sebastian Rudolph           111\n",
       "\n",
       "[1306 rows x 1 columns]"
      ]
     },
     "execution_count": 120,
     "metadata": {},
     "output_type": "execute_result"
    }
   ],
   "source": [
    "dict_a = {}\n",
    "for lista in range(100):\n",
    "    for ator in df_movies_copy.iloc[lista,12].split(','):\n",
    "        if ator.strip() in dict_a.keys():\n",
    "            dict_a[ator.strip()] = dict_a[ator.strip()] + df_movies_copy.iloc[lista,15]\n",
    "        else:\n",
    "            dict_a[ator.strip()] = df_movies_copy.iloc[lista,15]\n",
    "            \n",
    "df_count_votes = pd.DataFrame.from_dict(dict_a, orient='index').sort_values(by=0, ascending=False)\n",
    "df_count_votes"
   ]
  },
  {
   "cell_type": "code",
   "execution_count": 125,
   "metadata": {},
   "outputs": [
    {
     "ename": "TypeError",
     "evalue": "object of type 'NoneType' has no len()",
     "output_type": "error",
     "traceback": [
      "\u001b[1;31m---------------------------------------------------------------------------\u001b[0m",
      "\u001b[1;31mTypeError\u001b[0m                                 Traceback (most recent call last)",
      "\u001b[1;32m<ipython-input-125-067a03d65eed>\u001b[0m in \u001b[0;36m<module>\u001b[1;34m\u001b[0m\n\u001b[1;32m----> 1\u001b[1;33m \u001b[0mdf_count_movies\u001b[0m\u001b[1;33m.\u001b[0m\u001b[0mmerge\u001b[0m\u001b[1;33m(\u001b[0m\u001b[0mdf_count_votes\u001b[0m\u001b[1;33m,\u001b[0m \u001b[0mleft_on\u001b[0m\u001b[1;33m=\u001b[0m\u001b[1;36m0\u001b[0m\u001b[1;33m)\u001b[0m\u001b[1;33m\u001b[0m\u001b[1;33m\u001b[0m\u001b[0m\n\u001b[0m",
      "\u001b[1;32mc:\\users\\mateus mendonca\\appdata\\local\\programs\\python\\python37-32\\lib\\site-packages\\pandas\\core\\frame.py\u001b[0m in \u001b[0;36mmerge\u001b[1;34m(self, right, how, on, left_on, right_on, left_index, right_index, sort, suffixes, copy, indicator, validate)\u001b[0m\n\u001b[0;32m   7347\u001b[0m             \u001b[0mcopy\u001b[0m\u001b[1;33m=\u001b[0m\u001b[0mcopy\u001b[0m\u001b[1;33m,\u001b[0m\u001b[1;33m\u001b[0m\u001b[1;33m\u001b[0m\u001b[0m\n\u001b[0;32m   7348\u001b[0m             \u001b[0mindicator\u001b[0m\u001b[1;33m=\u001b[0m\u001b[0mindicator\u001b[0m\u001b[1;33m,\u001b[0m\u001b[1;33m\u001b[0m\u001b[1;33m\u001b[0m\u001b[0m\n\u001b[1;32m-> 7349\u001b[1;33m             \u001b[0mvalidate\u001b[0m\u001b[1;33m=\u001b[0m\u001b[0mvalidate\u001b[0m\u001b[1;33m,\u001b[0m\u001b[1;33m\u001b[0m\u001b[1;33m\u001b[0m\u001b[0m\n\u001b[0m\u001b[0;32m   7350\u001b[0m         )\n\u001b[0;32m   7351\u001b[0m \u001b[1;33m\u001b[0m\u001b[0m\n",
      "\u001b[1;32mc:\\users\\mateus mendonca\\appdata\\local\\programs\\python\\python37-32\\lib\\site-packages\\pandas\\core\\reshape\\merge.py\u001b[0m in \u001b[0;36mmerge\u001b[1;34m(left, right, how, on, left_on, right_on, left_index, right_index, sort, suffixes, copy, indicator, validate)\u001b[0m\n\u001b[0;32m     79\u001b[0m         \u001b[0mcopy\u001b[0m\u001b[1;33m=\u001b[0m\u001b[0mcopy\u001b[0m\u001b[1;33m,\u001b[0m\u001b[1;33m\u001b[0m\u001b[1;33m\u001b[0m\u001b[0m\n\u001b[0;32m     80\u001b[0m         \u001b[0mindicator\u001b[0m\u001b[1;33m=\u001b[0m\u001b[0mindicator\u001b[0m\u001b[1;33m,\u001b[0m\u001b[1;33m\u001b[0m\u001b[1;33m\u001b[0m\u001b[0m\n\u001b[1;32m---> 81\u001b[1;33m         \u001b[0mvalidate\u001b[0m\u001b[1;33m=\u001b[0m\u001b[0mvalidate\u001b[0m\u001b[1;33m,\u001b[0m\u001b[1;33m\u001b[0m\u001b[1;33m\u001b[0m\u001b[0m\n\u001b[0m\u001b[0;32m     82\u001b[0m     )\n\u001b[0;32m     83\u001b[0m     \u001b[1;32mreturn\u001b[0m \u001b[0mop\u001b[0m\u001b[1;33m.\u001b[0m\u001b[0mget_result\u001b[0m\u001b[1;33m(\u001b[0m\u001b[1;33m)\u001b[0m\u001b[1;33m\u001b[0m\u001b[1;33m\u001b[0m\u001b[0m\n",
      "\u001b[1;32mc:\\users\\mateus mendonca\\appdata\\local\\programs\\python\\python37-32\\lib\\site-packages\\pandas\\core\\reshape\\merge.py\u001b[0m in \u001b[0;36m__init__\u001b[1;34m(self, left, right, how, on, left_on, right_on, axis, left_index, right_index, sort, suffixes, copy, indicator, validate)\u001b[0m\n\u001b[0;32m    617\u001b[0m             \u001b[0mwarnings\u001b[0m\u001b[1;33m.\u001b[0m\u001b[0mwarn\u001b[0m\u001b[1;33m(\u001b[0m\u001b[0mmsg\u001b[0m\u001b[1;33m,\u001b[0m \u001b[0mUserWarning\u001b[0m\u001b[1;33m)\u001b[0m\u001b[1;33m\u001b[0m\u001b[1;33m\u001b[0m\u001b[0m\n\u001b[0;32m    618\u001b[0m \u001b[1;33m\u001b[0m\u001b[0m\n\u001b[1;32m--> 619\u001b[1;33m         \u001b[0mself\u001b[0m\u001b[1;33m.\u001b[0m\u001b[0m_validate_specification\u001b[0m\u001b[1;33m(\u001b[0m\u001b[1;33m)\u001b[0m\u001b[1;33m\u001b[0m\u001b[1;33m\u001b[0m\u001b[0m\n\u001b[0m\u001b[0;32m    620\u001b[0m \u001b[1;33m\u001b[0m\u001b[0m\n\u001b[0;32m    621\u001b[0m         \u001b[1;31m# note this function has side effects\u001b[0m\u001b[1;33m\u001b[0m\u001b[1;33m\u001b[0m\u001b[1;33m\u001b[0m\u001b[0m\n",
      "\u001b[1;32mc:\\users\\mateus mendonca\\appdata\\local\\programs\\python\\python37-32\\lib\\site-packages\\pandas\\core\\reshape\\merge.py\u001b[0m in \u001b[0;36m_validate_specification\u001b[1;34m(self)\u001b[0m\n\u001b[0;32m   1221\u001b[0m                     )\n\u001b[0;32m   1222\u001b[0m                 \u001b[0mself\u001b[0m\u001b[1;33m.\u001b[0m\u001b[0mleft_on\u001b[0m \u001b[1;33m=\u001b[0m \u001b[1;33m[\u001b[0m\u001b[1;32mNone\u001b[0m\u001b[1;33m]\u001b[0m \u001b[1;33m*\u001b[0m \u001b[0mn\u001b[0m\u001b[1;33m\u001b[0m\u001b[1;33m\u001b[0m\u001b[0m\n\u001b[1;32m-> 1223\u001b[1;33m         \u001b[1;32mif\u001b[0m \u001b[0mlen\u001b[0m\u001b[1;33m(\u001b[0m\u001b[0mself\u001b[0m\u001b[1;33m.\u001b[0m\u001b[0mright_on\u001b[0m\u001b[1;33m)\u001b[0m \u001b[1;33m!=\u001b[0m \u001b[0mlen\u001b[0m\u001b[1;33m(\u001b[0m\u001b[0mself\u001b[0m\u001b[1;33m.\u001b[0m\u001b[0mleft_on\u001b[0m\u001b[1;33m)\u001b[0m\u001b[1;33m:\u001b[0m\u001b[1;33m\u001b[0m\u001b[1;33m\u001b[0m\u001b[0m\n\u001b[0m\u001b[0;32m   1224\u001b[0m             \u001b[1;32mraise\u001b[0m \u001b[0mValueError\u001b[0m\u001b[1;33m(\u001b[0m\u001b[1;34m\"len(right_on) must equal len(left_on)\"\u001b[0m\u001b[1;33m)\u001b[0m\u001b[1;33m\u001b[0m\u001b[1;33m\u001b[0m\u001b[0m\n\u001b[0;32m   1225\u001b[0m \u001b[1;33m\u001b[0m\u001b[0m\n",
      "\u001b[1;31mTypeError\u001b[0m: object of type 'NoneType' has no len()"
     ]
    }
   ],
   "source": [
    "df_count_movies.merge(df_count_votes, left_on=0)"
   ]
  }
 ],
 "metadata": {
  "kernelspec": {
   "display_name": "Python 3",
   "language": "python",
   "name": "python3"
  },
  "language_info": {
   "codemirror_mode": {
    "name": "ipython",
    "version": 3
   },
   "file_extension": ".py",
   "mimetype": "text/x-python",
   "name": "python",
   "nbconvert_exporter": "python",
   "pygments_lexer": "ipython3",
   "version": "3.7.4"
  }
 },
 "nbformat": 4,
 "nbformat_minor": 2
}
