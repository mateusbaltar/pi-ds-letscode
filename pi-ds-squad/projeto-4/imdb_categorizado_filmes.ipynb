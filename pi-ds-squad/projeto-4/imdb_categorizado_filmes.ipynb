{
 "cells": [
  {
   "cell_type": "markdown",
   "metadata": {},
   "source": [
    "## Projeto Modulo 3 & 4"
   ]
  },
  {
   "cell_type": "markdown",
   "metadata": {},
   "source": [
    "**DESCRIÇÃO**\n",
    "\n",
    "Eu, como Gestor de Conteúdo, gostaria de visualizar um ranking categorizado dos filmes, para facilitar a escolha dos usuários.\n",
    "\n",
    "**REGRAS DE NEGÓCIO**\n",
    "- Considerar todas as produções  &#x2705;\n",
    "- Considerar a data de produção de no máximo 10 anos &#x2705; --  &#x2757; &#x2757; Considerando o 'year' como data de produção.\n",
    "- Levar em consideração as notas  &#x2705;\n",
    "\n",
    "**CRITÉRIOS DE ACEITE**\n",
    "- Quero visualizar de 10 em 10 &#x2705;\n",
    "- Apresentar em lista  &#x2705;\n",
    "- Constar o Título, Diretor, Atores Principais, Gênero, Ano da Produção, Produtora  &#x2705;\n",
    "- Limitar os 100 melhores   &#x2705;  --  &#x2757; &#x2757; 100 melhores Geral por nota.\n",
    "- Categorizar por gênero e tema (Filme, Série ou Documentário)   &#x2705; --  &#x2757; &#x2757; Não se aplica! Não temos essa info no dataset.\n"
   ]
  },
  {
   "cell_type": "markdown",
   "metadata": {},
   "source": [
    "#### Bibliotecas"
   ]
  },
  {
   "cell_type": "code",
   "execution_count": null,
   "metadata": {},
   "outputs": [],
   "source": [
    "from tqdm import tqdm, tqdm_notebook\n",
    "from IPython.display import clear_output\n",
    "import numpy as np\n",
    "import pandas as pd\n",
    "import matplotlib.pyplot as plt \n",
    "import os\n",
    "from jupyter_datatables import init_datatables_mode\n",
    "# jupyter nbextension enable jupyter-require/extension\n",
    "\n",
    "\n",
    "init_datatables_mode()"
   ]
  },
  {
   "cell_type": "code",
   "execution_count": 1,
   "metadata": {},
   "outputs": [],
   "source": [
    "# Sem as bibliotecas instaladas\n",
    "from IPython.display import clear_output\n",
    "import numpy as np\n",
    "import pandas as pd\n",
    "import matplotlib.pyplot as plt\n",
    "import os"
   ]
  },
  {
   "cell_type": "markdown",
   "metadata": {},
   "source": [
    "#### Importando Base de Dados"
   ]
  },
  {
   "cell_type": "code",
   "execution_count": null,
   "metadata": {},
   "outputs": [],
   "source": [
    "# Importando todos os arquivos de uma pasta.\n",
    "\n",
    "## Windows x Linux\n",
    "#path = '/home/csvaz/dev/projeto/data'\n",
    "path = 'C:\\DataScience\\projeto\\data'\n",
    "\n",
    "for _, _, arquivo in os.walk(path):\n",
    "    print('Arquivos Disponiveis:')\n",
    "    print(arquivo)\n",
    "\n",
    "    \n",
    "for arq in tqdm_notebook(arquivo, desc= 'Carregando...'):\n",
    "    name = arq\n",
    "    name = name.replace('IMDb ', '')\n",
    "    name = name.replace('.csv', '')\n",
    "    arq = '{}/{}'.format(path,arq)\n",
    "       \n",
    "    globals()['df_' + name] = pd.read_csv(arq)\n",
    "    print('df_{}'.format(name))  "
   ]
  },
  {
   "cell_type": "markdown",
   "metadata": {},
   "source": [
    "#### ETL Movies"
   ]
  },
  {
   "cell_type": "code",
   "execution_count": 2,
   "metadata": {},
   "outputs": [
    {
     "data": {
      "text/plain": [
       "Index(['imdb_title_id', 'title', 'original_title', 'year', 'date_published',\n",
       "       'genre', 'duration', 'country', 'language', 'director', 'writer',\n",
       "       'production_company', 'actors', 'description', 'avg_vote', 'votes',\n",
       "       'budget', 'usa_gross_income', 'worlwide_gross_income', 'metascore',\n",
       "       'reviews_from_users', 'reviews_from_critics'],\n",
       "      dtype='object')"
      ]
     },
     "execution_count": 2,
     "metadata": {},
     "output_type": "execute_result"
    }
   ],
   "source": [
    "# Sem as bibliotecas instaladas\n",
    "df_movies = pd.read_csv('IMDb movies.csv')\n",
    "df_movies.columns"
   ]
  },
  {
   "cell_type": "code",
   "execution_count": 3,
   "metadata": {
    "scrolled": false
   },
   "outputs": [
    {
     "data": {
      "text/html": [
       "<div>\n",
       "<style scoped>\n",
       "    .dataframe tbody tr th:only-of-type {\n",
       "        vertical-align: middle;\n",
       "    }\n",
       "\n",
       "    .dataframe tbody tr th {\n",
       "        vertical-align: top;\n",
       "    }\n",
       "\n",
       "    .dataframe thead th {\n",
       "        text-align: right;\n",
       "    }\n",
       "</style>\n",
       "<table border=\"1\" class=\"dataframe\">\n",
       "  <thead>\n",
       "    <tr style=\"text-align: right;\">\n",
       "      <th></th>\n",
       "      <th>title</th>\n",
       "      <th>director</th>\n",
       "      <th>actors</th>\n",
       "      <th>genre</th>\n",
       "      <th>year</th>\n",
       "      <th>production_company</th>\n",
       "      <th>avg_vote</th>\n",
       "    </tr>\n",
       "  </thead>\n",
       "  <tbody>\n",
       "    <tr>\n",
       "      <th>15090</th>\n",
       "      <td>The Other Side of the Wind</td>\n",
       "      <td>Orson Welles</td>\n",
       "      <td>John Huston, Oja Kodar, Peter Bogdanovich, Sus...</td>\n",
       "      <td>Drama</td>\n",
       "      <td>2018</td>\n",
       "      <td>Royal Road Entertainment</td>\n",
       "      <td>6.9</td>\n",
       "    </tr>\n",
       "    <tr>\n",
       "      <th>20324</th>\n",
       "      <td>Mo tai</td>\n",
       "      <td>Hung-Chuen Lau</td>\n",
       "      <td>Eddie Chan, Yung-Chang Chin, Pak-Kwong Ho, Men...</td>\n",
       "      <td>Horror</td>\n",
       "      <td>2019</td>\n",
       "      <td>Lo Wei Motion Picture Company</td>\n",
       "      <td>6.2</td>\n",
       "    </tr>\n",
       "    <tr>\n",
       "      <th>24705</th>\n",
       "      <td>La Telenovela Errante</td>\n",
       "      <td>Raoul Ruiz, Valeria Sarmiento</td>\n",
       "      <td>Luis Alarcón, Patricia Rivadeneira, Francisco ...</td>\n",
       "      <td>Comedy, Drama, Fantasy</td>\n",
       "      <td>2017</td>\n",
       "      <td>Poetastros</td>\n",
       "      <td>6.6</td>\n",
       "    </tr>\n",
       "    <tr>\n",
       "      <th>31606</th>\n",
       "      <td>Joe Finds Grace</td>\n",
       "      <td>Anthony Harrison</td>\n",
       "      <td>Anthony Harrison, C. Ernst Harth, Ellie Harvie...</td>\n",
       "      <td>Animation, Adventure, Comedy</td>\n",
       "      <td>2017</td>\n",
       "      <td>Bradeway Pictures</td>\n",
       "      <td>8.6</td>\n",
       "    </tr>\n",
       "    <tr>\n",
       "      <th>33704</th>\n",
       "      <td>Az ember tragédiája</td>\n",
       "      <td>Marcell Jankovics</td>\n",
       "      <td>Gyula Balázsi, Péter Benkö, Ágnes Bertalan, Pé...</td>\n",
       "      <td>Animation, Drama, History</td>\n",
       "      <td>2011</td>\n",
       "      <td>Arteam Produkciós Iroda</td>\n",
       "      <td>7.8</td>\n",
       "    </tr>\n",
       "  </tbody>\n",
       "</table>\n",
       "</div>"
      ],
      "text/plain": [
       "                            title                       director  \\\n",
       "15090  The Other Side of the Wind                   Orson Welles   \n",
       "20324                      Mo tai                 Hung-Chuen Lau   \n",
       "24705       La Telenovela Errante  Raoul Ruiz, Valeria Sarmiento   \n",
       "31606             Joe Finds Grace               Anthony Harrison   \n",
       "33704         Az ember tragédiája              Marcell Jankovics   \n",
       "\n",
       "                                                  actors  \\\n",
       "15090  John Huston, Oja Kodar, Peter Bogdanovich, Sus...   \n",
       "20324  Eddie Chan, Yung-Chang Chin, Pak-Kwong Ho, Men...   \n",
       "24705  Luis Alarcón, Patricia Rivadeneira, Francisco ...   \n",
       "31606  Anthony Harrison, C. Ernst Harth, Ellie Harvie...   \n",
       "33704  Gyula Balázsi, Péter Benkö, Ágnes Bertalan, Pé...   \n",
       "\n",
       "                              genre  year             production_company  \\\n",
       "15090                         Drama  2018       Royal Road Entertainment   \n",
       "20324                        Horror  2019  Lo Wei Motion Picture Company   \n",
       "24705        Comedy, Drama, Fantasy  2017                     Poetastros   \n",
       "31606  Animation, Adventure, Comedy  2017              Bradeway Pictures   \n",
       "33704     Animation, Drama, History  2011        Arteam Produkciós Iroda   \n",
       "\n",
       "       avg_vote  \n",
       "15090       6.9  \n",
       "20324       6.2  \n",
       "24705       6.6  \n",
       "31606       8.6  \n",
       "33704       7.8  "
      ]
     },
     "execution_count": 3,
     "metadata": {},
     "output_type": "execute_result"
    }
   ],
   "source": [
    "#Constar o Título, Diretor, Atores Principais, Gênero, Ano da Produção, Produtora# \n",
    "df_etl_movies = df_movies[['title','director', 'actors', 'genre', 'year', 'production_company','avg_vote']]\n",
    "df_etl_movies = df_etl_movies[df_etl_movies.year > 2010]\n",
    "df_etl_movies.head()"
   ]
  },
  {
   "cell_type": "code",
   "execution_count": 4,
   "metadata": {
    "scrolled": true
   },
   "outputs": [
    {
     "name": "stdout",
     "output_type": "stream",
     "text": [
      " 0 - Drama\n",
      " 1 - Comedy\n",
      " 2 - Romance\n",
      " 3 - Action\n",
      " 4 - Crime\n",
      " 5 - Thriller\n",
      " 6 - Biography\n",
      " 7 - Animation\n",
      " 8 - Family\n",
      " 9 - Musical\n",
      "10 - Music\n",
      "11 - Horror\n",
      "12 - Mystery\n",
      "13 - Adventure\n",
      "14 - Sport\n",
      "15 - None\n",
      "16 - History\n",
      "17 - Sci-Fi\n",
      "18 - War\n"
     ]
    }
   ],
   "source": [
    "df_etl_movies = df_etl_movies.sort_values(by='avg_vote', ascending = False).head(100)\n",
    "df_genre = df_etl_movies.genre.str.split(expand=True, pat=',')\n",
    "df_genre = df_genre.applymap(lambda x: x.strip() if isinstance(x, str) else x)\n",
    "df_genre = df_genre[0].append([df_genre[1], df_genre[2]]).unique()\n",
    "\n",
    "for i in range(df_genre.shape[0]):\n",
    "    print ('{:2} - {}'.format(i, df_genre[i]))"
   ]
  },
  {
   "cell_type": "code",
   "execution_count": 5,
   "metadata": {},
   "outputs": [
    {
     "data": {
      "image/png": "[encoded data removed]",
      "text/plain": [
       "<Figure size 432x288 with 1 Axes>"
      ]
     },
     "metadata": {
      "needs_background": "light"
     },
     "output_type": "display_data"
    }
   ],
   "source": [
    "lista = []\n",
    "for g in df_genre:\n",
    "    try:\n",
    "        lista.append(df_etl_movies.genre.str.count(g).sum())\n",
    "    except:\n",
    "        lista.append(None)\n",
    "df = pd.DataFrame(lista, df_genre, columns = ['Frequência'])\n",
    "df = df.sort_values(by='Frequência', ascending = False  )\n",
    "ax = df.plot(kind='bar')\n",
    "for p in ax.patches:\n",
    "    ax.annotate(int(p.get_height()), (p.get_x() * 1.005, p.get_height() * 1.005))\n",
    "plt.show()"
   ]
  },
  {
   "cell_type": "markdown",
   "metadata": {},
   "source": [
    "### Resultado "
   ]
  },
  {
   "cell_type": "markdown",
   "metadata": {},
   "source": [
    "Funções de Suporte"
   ]
  },
  {
   "cell_type": "code",
   "execution_count": 6,
   "metadata": {},
   "outputs": [],
   "source": [
    "def define_genre(x):\n",
    "    if genre in str(x):\n",
    "        return True\n",
    "    else:\n",
    "        return False"
   ]
  },
  {
   "cell_type": "code",
   "execution_count": 30,
   "metadata": {
    "scrolled": false
   },
   "outputs": [
    {
     "data": {
      "text/html": [
       "<div>\n",
       "<style scoped>\n",
       "    .dataframe tbody tr th:only-of-type {\n",
       "        vertical-align: middle;\n",
       "    }\n",
       "\n",
       "    .dataframe tbody tr th {\n",
       "        vertical-align: top;\n",
       "    }\n",
       "\n",
       "    .dataframe thead th {\n",
       "        text-align: right;\n",
       "    }\n",
       "</style>\n",
       "<table border=\"1\" class=\"dataframe\">\n",
       "  <thead>\n",
       "    <tr style=\"text-align: right;\">\n",
       "      <th></th>\n",
       "      <th>title</th>\n",
       "      <th>director</th>\n",
       "      <th>actors</th>\n",
       "      <th>genre</th>\n",
       "      <th>year</th>\n",
       "      <th>production_company</th>\n",
       "      <th>avg_vote</th>\n",
       "    </tr>\n",
       "  </thead>\n",
       "  <tbody>\n",
       "    <tr>\n",
       "      <th>74440</th>\n",
       "      <td>Enigma</td>\n",
       "      <td>Harley Wallen</td>\n",
       "      <td>Dennis Haskins, Bella Shepard, T.J. Storm, Key...</td>\n",
       "      <td>Horror, Mystery, Thriller</td>\n",
       "      <td>2019</td>\n",
       "      <td>Painted Creek Productions</td>\n",
       "      <td>8.8</td>\n",
       "    </tr>\n",
       "    <tr>\n",
       "      <th>76375</th>\n",
       "      <td>Kill Bill: The Whole Bloody Affair</td>\n",
       "      <td>Quentin Tarantino</td>\n",
       "      <td>Uma Thurman, David Carradine, Vivica A. Fox, J...</td>\n",
       "      <td>Action, Crime, Thriller</td>\n",
       "      <td>2011</td>\n",
       "      <td>A Band Apart</td>\n",
       "      <td>8.8</td>\n",
       "    </tr>\n",
       "    <tr>\n",
       "      <th>63831</th>\n",
       "      <td>Lost Angelas</td>\n",
       "      <td>William Wayne</td>\n",
       "      <td>Korrina Rico, William Wayne, Jon Jacobs, David...</td>\n",
       "      <td>Mystery, Thriller</td>\n",
       "      <td>2019</td>\n",
       "      <td>WM Films</td>\n",
       "      <td>8.8</td>\n",
       "    </tr>\n",
       "  </tbody>\n",
       "</table>\n",
       "</div>"
      ],
      "text/plain": [
       "                                    title           director  \\\n",
       "74440                              Enigma      Harley Wallen   \n",
       "76375  Kill Bill: The Whole Bloody Affair  Quentin Tarantino   \n",
       "63831                        Lost Angelas      William Wayne   \n",
       "\n",
       "                                                  actors  \\\n",
       "74440  Dennis Haskins, Bella Shepard, T.J. Storm, Key...   \n",
       "76375  Uma Thurman, David Carradine, Vivica A. Fox, J...   \n",
       "63831  Korrina Rico, William Wayne, Jon Jacobs, David...   \n",
       "\n",
       "                           genre  year         production_company  avg_vote  \n",
       "74440  Horror, Mystery, Thriller  2019  Painted Creek Productions       8.8  \n",
       "76375    Action, Crime, Thriller  2011               A Band Apart       8.8  \n",
       "63831          Mystery, Thriller  2019                   WM Films       8.8  "
      ]
     },
     "metadata": {},
     "output_type": "display_data"
    },
    {
     "name": "stdout",
     "output_type": "stream",
     "text": [
      "Próxima >\n"
     ]
    }
   ],
   "source": [
    "# Exibindo os filmes por gênero\n",
    "genre = input('escolher o gênero do filme: ')\n",
    "\n",
    "df_etl_movies['validation'] = df_etl_movies['genre'].apply(define_genre)\n",
    "df_etl_movies_tmp = df_etl_movies[(df_etl_movies.validation == True)]\n",
    "\n",
    "for i in range(df_etl_movies_tmp.shape[0]//10 + 1):\n",
    "    \n",
    "    clear_output(wait=True)\n",
    "    \n",
    "    display(df_etl_movies_tmp.iloc[10*(i):10*(i+1),:-1])\n",
    "    input('Próxima >')"
   ]
  }
 ],
 "metadata": {
  "kernelspec": {
   "display_name": "Python 3",
   "language": "python",
   "name": "python3"
  },
  "language_info": {
   "codemirror_mode": {
    "name": "ipython",
    "version": 3
   },
   "file_extension": ".py",
   "mimetype": "text/x-python",
   "name": "python",
   "nbconvert_exporter": "python",
   "pygments_lexer": "ipython3",
   "version": "3.7.5"
  },
  "require": {
   "paths": {
    "buttons.colvis": "https://cdn.datatables.net/buttons/1.5.6/js/buttons.colVis.min",
    "buttons.flash": "https://cdn.datatables.net/buttons/1.5.6/js/buttons.flash.min",
    "buttons.html5": "https://cdn.datatables.net/buttons/1.5.6/js/buttons.html5.min",
    "buttons.print": "https://cdn.datatables.net/buttons/1.5.6/js/buttons.print.min",
    "chartjs": "https://cdnjs.cloudflare.com/ajax/libs/Chart.js/2.8.0/Chart",
    "d3": "https://d3js.org/d3.v5.min",
    "d3-array": "https://d3js.org/d3-array.v2.min",
    "datatables.net": "https://cdn.datatables.net/1.10.18/js/jquery.dataTables",
    "datatables.net-buttons": "https://cdn.datatables.net/buttons/1.5.6/js/dataTables.buttons.min",
    "datatables.responsive": "https://cdn.datatables.net/responsive/2.2.2/js/dataTables.responsive.min",
    "datatables.scroller": "https://cdn.datatables.net/scroller/2.0.0/js/dataTables.scroller.min",
    "datatables.select": "https://cdn.datatables.net/select/1.3.0/js/dataTables.select.min",
    "jszip": "https://cdnjs.cloudflare.com/ajax/libs/jszip/2.5.0/jszip.min",
    "moment": "https://cdnjs.cloudflare.com/ajax/libs/moment.js/2.8.0/moment",
    "pdfmake": "https://cdnjs.cloudflare.com/ajax/libs/pdfmake/0.1.36/pdfmake.min",
    "vfsfonts": "https://cdnjs.cloudflare.com/ajax/libs/pdfmake/0.1.36/vfs_fonts"
   },
   "shim": {
    "buttons.colvis": {
     "deps": [
      "jszip",
      "datatables.net-buttons"
     ]
    },
    "buttons.flash": {
     "deps": [
      "jszip",
      "datatables.net-buttons"
     ]
    },
    "buttons.html5": {
     "deps": [
      "jszip",
      "datatables.net-buttons"
     ]
    },
    "buttons.print": {
     "deps": [
      "jszip",
      "datatables.net-buttons"
     ]
    },
    "chartjs": {
     "deps": [
      "moment"
     ]
    },
    "datatables.net": {
     "exports": "$.fn.dataTable"
    },
    "datatables.net-buttons": {
     "deps": [
      "datatables.net"
     ]
    },
    "pdfmake": {
     "deps": [
      "datatables.net"
     ]
    },
    "vfsfonts": {
     "deps": [
      "datatables.net"
     ]
    }
   }
  }
 },
 "nbformat": 4,
 "nbformat_minor": 4
}
